{
 "cells": [
  {
   "cell_type": "code",
   "execution_count": 1,
   "metadata": {},
   "outputs": [],
   "source": [
    "from pathlib import Path\n",
    "import numpy as np\n",
    "import glob\n",
    "\n",
    "from pyspark.sql import SparkSession\n",
    "# from pyspark.conf import SparkConf\n",
    "from pyspark.sql.functions import col, sum, count, when\n",
    "from pyspark.ml.feature import MinMaxScaler, VectorAssembler\n",
    "from pyspark.ml import Pipeline\n",
    "\n",
    "from skrebate import ReliefF"
   ]
  },
  {
   "cell_type": "code",
   "execution_count": 2,
   "metadata": {},
   "outputs": [
    {
     "name": "stdout",
     "output_type": "stream",
     "text": [
      "Spark Version: 3.5.1\n"
     ]
    }
   ],
   "source": [
    "# Initialize Spark Session\n",
    "spark: SparkSession = SparkSession.builder\\\n",
    "    .appName(\"pyspark-notebook\")\\\n",
    "    .master(\"spark://127.0.0.1:7077\")\\\n",
    "    .config(\"spark.driver.host\", \"host.docker.internal\") \\\n",
    "    .config(\"spark.driver.bindAddress\", \"0.0.0.0\")\\\n",
    "    .config(\"spark.executor.memory\", \"2g\")\\\n",
    "    .config(\"spark.executor.cores\", \"2\") \\\n",
    "    .config(\"spark.executor.instances\", \"2\")\\\n",
    "    .config(\"spark.hadoop.fs.s3a.block.size\", \"33554432\") \\\n",
    "    .config(\"spark.hadoop.fs.s3a.endpoint\", \"http://minio:9000\") \\\n",
    "    .config(\"spark.hadoop.fs.s3a.access.key\", \"admin\") \\\n",
    "    .config(\"spark.hadoop.fs.s3a.secret.key\", \"password\") \\\n",
    "    .config(\"spark.hadoop.fs.s3a.path.style.access\", \"true\") \\\n",
    "    .config(\"spark.hadoop.fs.s3a.connection.ssl.enabled\", \"false\")\\\n",
    "    .config(\"spark.hadoop.fs.s3a.impl\", \"org.apache.hadoop.fs.s3a.S3AFileSystem\") \\\n",
    "    .config(\"spark.hadoop.fs.s3a.aws.credentials.provider\", \"org.apache.hadoop.fs.s3a.SimpleAWSCredentialsProvider\") \\\n",
    "    .config(\"spark.hadoop.fs.s3a.attempts.maximum\", \"0\") \\\n",
    "    .getOrCreate()\n",
    "\n",
    "print(f\"Spark Version: {spark.version}\")"
   ]
  },
  {
   "cell_type": "code",
   "execution_count": 3,
   "metadata": {},
   "outputs": [
    {
     "name": "stdout",
     "output_type": "stream",
     "text": [
      "Tổng: 15\n"
     ]
    }
   ],
   "source": [
    "rdd = spark.sparkContext.parallelize([1, 2, 3, 4, 5])\n",
    "result = rdd.sum()\n",
    "print(f\"Tổng: {result}\")"
   ]
  },
  {
   "cell_type": "code",
   "execution_count": 4,
   "metadata": {},
   "outputs": [
    {
     "name": "stdout",
     "output_type": "stream",
     "text": [
      "['s3a://mybucket/cicids2017\\\\Friday-WorkingHours-Afternoon-DDos.pcap_ISCX.csv', 's3a://mybucket/cicids2017\\\\Friday-WorkingHours-Afternoon-PortScan.pcap_ISCX.csv', 's3a://mybucket/cicids2017\\\\Friday-WorkingHours-Morning.pcap_ISCX.csv', 's3a://mybucket/cicids2017\\\\Monday-WorkingHours.pcap_ISCX.csv', 's3a://mybucket/cicids2017\\\\Thursday-WorkingHours-Afternoon-Infilteration.pcap_ISCX.csv', 's3a://mybucket/cicids2017\\\\Thursday-WorkingHours-Morning-WebAttacks.pcap_ISCX.csv', 's3a://mybucket/cicids2017\\\\Tuesday-WorkingHours.pcap_ISCX.csv', 's3a://mybucket/cicids2017\\\\Wednesday-workingHours.pcap_ISCX.csv']\n"
     ]
    }
   ],
   "source": [
    "volume_path = \"s3a://mybucket/cicids2017\" \n",
    "\n",
    "local_path = \"./CICIDS2017\"\n",
    "all_files = glob.glob(local_path + \"/*.csv\")\n",
    "\n",
    "volume_files = [volume_path + file.removeprefix(local_path) for file in all_files]\n",
    "print(volume_files)"
   ]
  },
  {
   "cell_type": "code",
   "execution_count": 5,
   "metadata": {},
   "outputs": [
    {
     "ename": "Py4JJavaError",
     "evalue": "An error occurred while calling o70.csv.\n: java.lang.NoClassDefFoundError: com/amazonaws/AmazonClientException\r\n\tat java.base/java.lang.Class.forName0(Native Method)\r\n\tat java.base/java.lang.Class.forName(Class.java:398)\r\n\tat org.apache.hadoop.conf.Configuration.getClassByNameOrNull(Configuration.java:2625)\r\n\tat org.apache.hadoop.conf.Configuration.getClassByName(Configuration.java:2590)\r\n\tat org.apache.hadoop.conf.Configuration.getClass(Configuration.java:2686)\r\n\tat org.apache.hadoop.fs.FileSystem.getFileSystemClass(FileSystem.java:3431)\r\n\tat org.apache.hadoop.fs.FileSystem.createFileSystem(FileSystem.java:3466)\r\n\tat org.apache.hadoop.fs.FileSystem.access$300(FileSystem.java:174)\r\n\tat org.apache.hadoop.fs.FileSystem$Cache.getInternal(FileSystem.java:3574)\r\n\tat org.apache.hadoop.fs.FileSystem$Cache.get(FileSystem.java:3521)\r\n\tat org.apache.hadoop.fs.FileSystem.get(FileSystem.java:540)\r\n\tat org.apache.hadoop.fs.Path.getFileSystem(Path.java:365)\r\n\tat org.apache.spark.sql.execution.datasources.DataSource$.$anonfun$checkAndGlobPathIfNecessary$1(DataSource.scala:724)\r\n\tat scala.collection.immutable.List.map(List.scala:293)\r\n\tat org.apache.spark.sql.execution.datasources.DataSource$.checkAndGlobPathIfNecessary(DataSource.scala:722)\r\n\tat org.apache.spark.sql.execution.datasources.DataSource.checkAndGlobPathIfNecessary(DataSource.scala:551)\r\n\tat org.apache.spark.sql.execution.datasources.DataSource.resolveRelation(DataSource.scala:404)\r\n\tat org.apache.spark.sql.DataFrameReader.loadV1Source(DataFrameReader.scala:229)\r\n\tat org.apache.spark.sql.DataFrameReader.$anonfun$load$2(DataFrameReader.scala:211)\r\n\tat scala.Option.getOrElse(Option.scala:189)\r\n\tat org.apache.spark.sql.DataFrameReader.load(DataFrameReader.scala:211)\r\n\tat org.apache.spark.sql.DataFrameReader.csv(DataFrameReader.scala:538)\r\n\tat java.base/jdk.internal.reflect.NativeMethodAccessorImpl.invoke0(Native Method)\r\n\tat java.base/jdk.internal.reflect.NativeMethodAccessorImpl.invoke(NativeMethodAccessorImpl.java:62)\r\n\tat java.base/jdk.internal.reflect.DelegatingMethodAccessorImpl.invoke(DelegatingMethodAccessorImpl.java:43)\r\n\tat java.base/java.lang.reflect.Method.invoke(Method.java:566)\r\n\tat py4j.reflection.MethodInvoker.invoke(MethodInvoker.java:244)\r\n\tat py4j.reflection.ReflectionEngine.invoke(ReflectionEngine.java:374)\r\n\tat py4j.Gateway.invoke(Gateway.java:282)\r\n\tat py4j.commands.AbstractCommand.invokeMethod(AbstractCommand.java:132)\r\n\tat py4j.commands.CallCommand.execute(CallCommand.java:79)\r\n\tat py4j.ClientServerConnection.waitForCommands(ClientServerConnection.java:182)\r\n\tat py4j.ClientServerConnection.run(ClientServerConnection.java:106)\r\n\tat java.base/java.lang.Thread.run(Thread.java:834)\r\nCaused by: java.lang.ClassNotFoundException: com.amazonaws.AmazonClientException\r\n\tat java.base/jdk.internal.loader.BuiltinClassLoader.loadClass(BuiltinClassLoader.java:581)\r\n\tat java.base/jdk.internal.loader.ClassLoaders$AppClassLoader.loadClass(ClassLoaders.java:178)\r\n\tat java.base/java.lang.ClassLoader.loadClass(ClassLoader.java:526)\r\n\t... 34 more\r\n",
     "output_type": "error",
     "traceback": [
      "\u001b[31m---------------------------------------------------------------------------\u001b[39m",
      "\u001b[31mPy4JJavaError\u001b[39m                             Traceback (most recent call last)",
      "\u001b[36mCell\u001b[39m\u001b[36m \u001b[39m\u001b[32mIn[5]\u001b[39m\u001b[32m, line 3\u001b[39m\n\u001b[32m      1\u001b[39m df = \u001b[43mspark\u001b[49m\u001b[43m.\u001b[49m\u001b[43mread\u001b[49m\u001b[43m \u001b[49m\u001b[43m\\\u001b[49m\n\u001b[32m      2\u001b[39m \u001b[43m    \u001b[49m\u001b[43m.\u001b[49m\u001b[43moption\u001b[49m\u001b[43m(\u001b[49m\u001b[33;43m\"\u001b[39;49m\u001b[33;43mnullValue\u001b[39;49m\u001b[33;43m\"\u001b[39;49m\u001b[43m,\u001b[49m\u001b[43m \u001b[49m\u001b[33;43m\"\u001b[39;49m\u001b[33;43mNA\u001b[39;49m\u001b[33;43m\"\u001b[39;49m\u001b[43m)\u001b[49m\u001b[43m \u001b[49m\u001b[43m\\\u001b[49m\n\u001b[32m----> \u001b[39m\u001b[32m3\u001b[39m \u001b[43m    \u001b[49m\u001b[43m.\u001b[49m\u001b[43moption\u001b[49m\u001b[43m(\u001b[49m\u001b[33;43m\"\u001b[39;49m\u001b[33;43memptyValue\u001b[39;49m\u001b[33;43m\"\u001b[39;49m\u001b[43m,\u001b[49m\u001b[43m \u001b[49m\u001b[33;43m\"\u001b[39;49m\u001b[33;43munknown\u001b[39;49m\u001b[33;43m\"\u001b[39;49m\u001b[43m)\u001b[49m\u001b[43m.\u001b[49m\u001b[43mcsv\u001b[49m\u001b[43m(\u001b[49m\u001b[43mvolume_files\u001b[49m\u001b[43m,\u001b[49m\u001b[43m \u001b[49m\u001b[43mheader\u001b[49m\u001b[43m=\u001b[49m\u001b[38;5;28;43;01mTrue\u001b[39;49;00m\u001b[43m,\u001b[49m\u001b[43m \u001b[49m\u001b[43minferSchema\u001b[49m\u001b[43m=\u001b[49m\u001b[38;5;28;43;01mTrue\u001b[39;49;00m\u001b[43m)\u001b[49m\n",
      "\u001b[36mFile \u001b[39m\u001b[32md:\\Dev\\Improved-RF-for-Real-time-IDS-with-Spark\\venv\\Lib\\site-packages\\pyspark\\sql\\readwriter.py:740\u001b[39m, in \u001b[36mDataFrameReader.csv\u001b[39m\u001b[34m(self, path, schema, sep, encoding, quote, escape, comment, header, inferSchema, ignoreLeadingWhiteSpace, ignoreTrailingWhiteSpace, nullValue, nanValue, positiveInf, negativeInf, dateFormat, timestampFormat, maxColumns, maxCharsPerColumn, maxMalformedLogPerPartition, mode, columnNameOfCorruptRecord, multiLine, charToEscapeQuoteEscaping, samplingRatio, enforceSchema, emptyValue, locale, lineSep, pathGlobFilter, recursiveFileLookup, modifiedBefore, modifiedAfter, unescapedQuoteHandling)\u001b[39m\n\u001b[32m    738\u001b[39m \u001b[38;5;28;01mif\u001b[39;00m \u001b[38;5;28mtype\u001b[39m(path) == \u001b[38;5;28mlist\u001b[39m:\n\u001b[32m    739\u001b[39m     \u001b[38;5;28;01massert\u001b[39;00m \u001b[38;5;28mself\u001b[39m._spark._sc._jvm \u001b[38;5;129;01mis\u001b[39;00m \u001b[38;5;129;01mnot\u001b[39;00m \u001b[38;5;28;01mNone\u001b[39;00m\n\u001b[32m--> \u001b[39m\u001b[32m740\u001b[39m     \u001b[38;5;28;01mreturn\u001b[39;00m \u001b[38;5;28mself\u001b[39m._df(\u001b[38;5;28;43mself\u001b[39;49m\u001b[43m.\u001b[49m\u001b[43m_jreader\u001b[49m\u001b[43m.\u001b[49m\u001b[43mcsv\u001b[49m\u001b[43m(\u001b[49m\u001b[38;5;28;43mself\u001b[39;49m\u001b[43m.\u001b[49m\u001b[43m_spark\u001b[49m\u001b[43m.\u001b[49m\u001b[43m_sc\u001b[49m\u001b[43m.\u001b[49m\u001b[43m_jvm\u001b[49m\u001b[43m.\u001b[49m\u001b[43mPythonUtils\u001b[49m\u001b[43m.\u001b[49m\u001b[43mtoSeq\u001b[49m\u001b[43m(\u001b[49m\u001b[43mpath\u001b[49m\u001b[43m)\u001b[49m\u001b[43m)\u001b[49m)\n\u001b[32m    741\u001b[39m \u001b[38;5;28;01melif\u001b[39;00m \u001b[38;5;28misinstance\u001b[39m(path, RDD):\n\u001b[32m    743\u001b[39m     \u001b[38;5;28;01mdef\u001b[39;00m\u001b[38;5;250m \u001b[39m\u001b[34mfunc\u001b[39m(iterator):\n",
      "\u001b[36mFile \u001b[39m\u001b[32md:\\Dev\\Improved-RF-for-Real-time-IDS-with-Spark\\venv\\Lib\\site-packages\\py4j\\java_gateway.py:1322\u001b[39m, in \u001b[36mJavaMember.__call__\u001b[39m\u001b[34m(self, *args)\u001b[39m\n\u001b[32m   1316\u001b[39m command = proto.CALL_COMMAND_NAME +\\\n\u001b[32m   1317\u001b[39m     \u001b[38;5;28mself\u001b[39m.command_header +\\\n\u001b[32m   1318\u001b[39m     args_command +\\\n\u001b[32m   1319\u001b[39m     proto.END_COMMAND_PART\n\u001b[32m   1321\u001b[39m answer = \u001b[38;5;28mself\u001b[39m.gateway_client.send_command(command)\n\u001b[32m-> \u001b[39m\u001b[32m1322\u001b[39m return_value = \u001b[43mget_return_value\u001b[49m\u001b[43m(\u001b[49m\n\u001b[32m   1323\u001b[39m \u001b[43m    \u001b[49m\u001b[43manswer\u001b[49m\u001b[43m,\u001b[49m\u001b[43m \u001b[49m\u001b[38;5;28;43mself\u001b[39;49m\u001b[43m.\u001b[49m\u001b[43mgateway_client\u001b[49m\u001b[43m,\u001b[49m\u001b[43m \u001b[49m\u001b[38;5;28;43mself\u001b[39;49m\u001b[43m.\u001b[49m\u001b[43mtarget_id\u001b[49m\u001b[43m,\u001b[49m\u001b[43m \u001b[49m\u001b[38;5;28;43mself\u001b[39;49m\u001b[43m.\u001b[49m\u001b[43mname\u001b[49m\u001b[43m)\u001b[49m\n\u001b[32m   1325\u001b[39m \u001b[38;5;28;01mfor\u001b[39;00m temp_arg \u001b[38;5;129;01min\u001b[39;00m temp_args:\n\u001b[32m   1326\u001b[39m     \u001b[38;5;28;01mif\u001b[39;00m \u001b[38;5;28mhasattr\u001b[39m(temp_arg, \u001b[33m\"\u001b[39m\u001b[33m_detach\u001b[39m\u001b[33m\"\u001b[39m):\n",
      "\u001b[36mFile \u001b[39m\u001b[32md:\\Dev\\Improved-RF-for-Real-time-IDS-with-Spark\\venv\\Lib\\site-packages\\pyspark\\errors\\exceptions\\captured.py:179\u001b[39m, in \u001b[36mcapture_sql_exception.<locals>.deco\u001b[39m\u001b[34m(*a, **kw)\u001b[39m\n\u001b[32m    177\u001b[39m \u001b[38;5;28;01mdef\u001b[39;00m\u001b[38;5;250m \u001b[39m\u001b[34mdeco\u001b[39m(*a: Any, **kw: Any) -> Any:\n\u001b[32m    178\u001b[39m     \u001b[38;5;28;01mtry\u001b[39;00m:\n\u001b[32m--> \u001b[39m\u001b[32m179\u001b[39m         \u001b[38;5;28;01mreturn\u001b[39;00m \u001b[43mf\u001b[49m\u001b[43m(\u001b[49m\u001b[43m*\u001b[49m\u001b[43ma\u001b[49m\u001b[43m,\u001b[49m\u001b[43m \u001b[49m\u001b[43m*\u001b[49m\u001b[43m*\u001b[49m\u001b[43mkw\u001b[49m\u001b[43m)\u001b[49m\n\u001b[32m    180\u001b[39m     \u001b[38;5;28;01mexcept\u001b[39;00m Py4JJavaError \u001b[38;5;28;01mas\u001b[39;00m e:\n\u001b[32m    181\u001b[39m         converted = convert_exception(e.java_exception)\n",
      "\u001b[36mFile \u001b[39m\u001b[32md:\\Dev\\Improved-RF-for-Real-time-IDS-with-Spark\\venv\\Lib\\site-packages\\py4j\\protocol.py:326\u001b[39m, in \u001b[36mget_return_value\u001b[39m\u001b[34m(answer, gateway_client, target_id, name)\u001b[39m\n\u001b[32m    324\u001b[39m value = OUTPUT_CONVERTER[\u001b[38;5;28mtype\u001b[39m](answer[\u001b[32m2\u001b[39m:], gateway_client)\n\u001b[32m    325\u001b[39m \u001b[38;5;28;01mif\u001b[39;00m answer[\u001b[32m1\u001b[39m] == REFERENCE_TYPE:\n\u001b[32m--> \u001b[39m\u001b[32m326\u001b[39m     \u001b[38;5;28;01mraise\u001b[39;00m Py4JJavaError(\n\u001b[32m    327\u001b[39m         \u001b[33m\"\u001b[39m\u001b[33mAn error occurred while calling \u001b[39m\u001b[38;5;132;01m{0}\u001b[39;00m\u001b[38;5;132;01m{1}\u001b[39;00m\u001b[38;5;132;01m{2}\u001b[39;00m\u001b[33m.\u001b[39m\u001b[38;5;130;01m\\n\u001b[39;00m\u001b[33m\"\u001b[39m.\n\u001b[32m    328\u001b[39m         \u001b[38;5;28mformat\u001b[39m(target_id, \u001b[33m\"\u001b[39m\u001b[33m.\u001b[39m\u001b[33m\"\u001b[39m, name), value)\n\u001b[32m    329\u001b[39m \u001b[38;5;28;01melse\u001b[39;00m:\n\u001b[32m    330\u001b[39m     \u001b[38;5;28;01mraise\u001b[39;00m Py4JError(\n\u001b[32m    331\u001b[39m         \u001b[33m\"\u001b[39m\u001b[33mAn error occurred while calling \u001b[39m\u001b[38;5;132;01m{0}\u001b[39;00m\u001b[38;5;132;01m{1}\u001b[39;00m\u001b[38;5;132;01m{2}\u001b[39;00m\u001b[33m. Trace:\u001b[39m\u001b[38;5;130;01m\\n\u001b[39;00m\u001b[38;5;132;01m{3}\u001b[39;00m\u001b[38;5;130;01m\\n\u001b[39;00m\u001b[33m\"\u001b[39m.\n\u001b[32m    332\u001b[39m         \u001b[38;5;28mformat\u001b[39m(target_id, \u001b[33m\"\u001b[39m\u001b[33m.\u001b[39m\u001b[33m\"\u001b[39m, name, value))\n",
      "\u001b[31mPy4JJavaError\u001b[39m: An error occurred while calling o70.csv.\n: java.lang.NoClassDefFoundError: com/amazonaws/AmazonClientException\r\n\tat java.base/java.lang.Class.forName0(Native Method)\r\n\tat java.base/java.lang.Class.forName(Class.java:398)\r\n\tat org.apache.hadoop.conf.Configuration.getClassByNameOrNull(Configuration.java:2625)\r\n\tat org.apache.hadoop.conf.Configuration.getClassByName(Configuration.java:2590)\r\n\tat org.apache.hadoop.conf.Configuration.getClass(Configuration.java:2686)\r\n\tat org.apache.hadoop.fs.FileSystem.getFileSystemClass(FileSystem.java:3431)\r\n\tat org.apache.hadoop.fs.FileSystem.createFileSystem(FileSystem.java:3466)\r\n\tat org.apache.hadoop.fs.FileSystem.access$300(FileSystem.java:174)\r\n\tat org.apache.hadoop.fs.FileSystem$Cache.getInternal(FileSystem.java:3574)\r\n\tat org.apache.hadoop.fs.FileSystem$Cache.get(FileSystem.java:3521)\r\n\tat org.apache.hadoop.fs.FileSystem.get(FileSystem.java:540)\r\n\tat org.apache.hadoop.fs.Path.getFileSystem(Path.java:365)\r\n\tat org.apache.spark.sql.execution.datasources.DataSource$.$anonfun$checkAndGlobPathIfNecessary$1(DataSource.scala:724)\r\n\tat scala.collection.immutable.List.map(List.scala:293)\r\n\tat org.apache.spark.sql.execution.datasources.DataSource$.checkAndGlobPathIfNecessary(DataSource.scala:722)\r\n\tat org.apache.spark.sql.execution.datasources.DataSource.checkAndGlobPathIfNecessary(DataSource.scala:551)\r\n\tat org.apache.spark.sql.execution.datasources.DataSource.resolveRelation(DataSource.scala:404)\r\n\tat org.apache.spark.sql.DataFrameReader.loadV1Source(DataFrameReader.scala:229)\r\n\tat org.apache.spark.sql.DataFrameReader.$anonfun$load$2(DataFrameReader.scala:211)\r\n\tat scala.Option.getOrElse(Option.scala:189)\r\n\tat org.apache.spark.sql.DataFrameReader.load(DataFrameReader.scala:211)\r\n\tat org.apache.spark.sql.DataFrameReader.csv(DataFrameReader.scala:538)\r\n\tat java.base/jdk.internal.reflect.NativeMethodAccessorImpl.invoke0(Native Method)\r\n\tat java.base/jdk.internal.reflect.NativeMethodAccessorImpl.invoke(NativeMethodAccessorImpl.java:62)\r\n\tat java.base/jdk.internal.reflect.DelegatingMethodAccessorImpl.invoke(DelegatingMethodAccessorImpl.java:43)\r\n\tat java.base/java.lang.reflect.Method.invoke(Method.java:566)\r\n\tat py4j.reflection.MethodInvoker.invoke(MethodInvoker.java:244)\r\n\tat py4j.reflection.ReflectionEngine.invoke(ReflectionEngine.java:374)\r\n\tat py4j.Gateway.invoke(Gateway.java:282)\r\n\tat py4j.commands.AbstractCommand.invokeMethod(AbstractCommand.java:132)\r\n\tat py4j.commands.CallCommand.execute(CallCommand.java:79)\r\n\tat py4j.ClientServerConnection.waitForCommands(ClientServerConnection.java:182)\r\n\tat py4j.ClientServerConnection.run(ClientServerConnection.java:106)\r\n\tat java.base/java.lang.Thread.run(Thread.java:834)\r\nCaused by: java.lang.ClassNotFoundException: com.amazonaws.AmazonClientException\r\n\tat java.base/jdk.internal.loader.BuiltinClassLoader.loadClass(BuiltinClassLoader.java:581)\r\n\tat java.base/jdk.internal.loader.ClassLoaders$AppClassLoader.loadClass(ClassLoaders.java:178)\r\n\tat java.base/java.lang.ClassLoader.loadClass(ClassLoader.java:526)\r\n\t... 34 more\r\n"
     ]
    }
   ],
   "source": [
    "df = spark.read \\\n",
    "    .option(\"nullValue\", \"NA\") \\\n",
    "    .option(\"emptyValue\", \"unknown\").csv(volume_files, header=True, inferSchema=True)"
   ]
  },
  {
   "cell_type": "code",
   "execution_count": 12,
   "metadata": {},
   "outputs": [
    {
     "name": "stdout",
     "output_type": "stream",
     "text": [
      "+-----------------+--------------+------------------+-----------------------+---------------------------+----------------------------+----------------------+----------------------+-----------------------+----------------------+---------------------+----------------------+-----------------------+----------------------+----------------+----------------+--------------+--------------+-------------+-------------+-------------+-------------+--------------+------------+------------+-------------+--------------+--------------+------------+------------+-------------+--------------+--------------+--------------+--------------------+------------------+----------------+---------------+------------------+------------------+-------------------+------------------+-----------------------+--------------+---------------+---------------+---------------+---------------+---------------+---------------+---------------+--------------+--------------------+---------------------+---------------------+--------------------+------------------+---------------------+------------------+-------------------+---------------------+-----------------+-------------------+------------------+--------------------+------------------+----------------------+------------------------+-----------------+---------------------+-----------+-----------+-----------+-----------+---------+---------+---------+---------+------+\n",
      "| Destination Port| Flow Duration| Total Fwd Packets| Total Backward Packets|Total Length of Fwd Packets| Total Length of Bwd Packets| Fwd Packet Length Max| Fwd Packet Length Min| Fwd Packet Length Mean| Fwd Packet Length Std|Bwd Packet Length Max| Bwd Packet Length Min| Bwd Packet Length Mean| Bwd Packet Length Std|    Flow Bytes/s|  Flow Packets/s| Flow IAT Mean|  Flow IAT Std| Flow IAT Max| Flow IAT Min|Fwd IAT Total| Fwd IAT Mean|   Fwd IAT Std| Fwd IAT Max| Fwd IAT Min|Bwd IAT Total|  Bwd IAT Mean|   Bwd IAT Std| Bwd IAT Max| Bwd IAT Min|Fwd PSH Flags| Bwd PSH Flags| Fwd URG Flags| Bwd URG Flags| Fwd Header Length34| Bwd Header Length|   Fwd Packets/s|  Bwd Packets/s| Min Packet Length| Max Packet Length| Packet Length Mean| Packet Length Std| Packet Length Variance|FIN Flag Count| SYN Flag Count| RST Flag Count| PSH Flag Count| ACK Flag Count| URG Flag Count| CWE Flag Count| ECE Flag Count| Down/Up Ratio| Average Packet Size| Avg Fwd Segment Size| Avg Bwd Segment Size| Fwd Header Length55|Fwd Avg Bytes/Bulk| Fwd Avg Packets/Bulk| Fwd Avg Bulk Rate| Bwd Avg Bytes/Bulk| Bwd Avg Packets/Bulk|Bwd Avg Bulk Rate|Subflow Fwd Packets| Subflow Fwd Bytes| Subflow Bwd Packets| Subflow Bwd Bytes|Init_Win_bytes_forward| Init_Win_bytes_backward| act_data_pkt_fwd| min_seg_size_forward|Active Mean| Active Std| Active Max| Active Min|Idle Mean| Idle Std| Idle Max| Idle Min| Label|\n",
      "+-----------------+--------------+------------------+-----------------------+---------------------------+----------------------------+----------------------+----------------------+-----------------------+----------------------+---------------------+----------------------+-----------------------+----------------------+----------------+----------------+--------------+--------------+-------------+-------------+-------------+-------------+--------------+------------+------------+-------------+--------------+--------------+------------+------------+-------------+--------------+--------------+--------------+--------------------+------------------+----------------+---------------+------------------+------------------+-------------------+------------------+-----------------------+--------------+---------------+---------------+---------------+---------------+---------------+---------------+---------------+--------------+--------------------+---------------------+---------------------+--------------------+------------------+---------------------+------------------+-------------------+---------------------+-----------------+-------------------+------------------+--------------------+------------------+----------------------+------------------------+-----------------+---------------------+-----------+-----------+-----------+-----------+---------+---------+---------+---------+------+\n",
      "|            49188|             4|                 2|                      0|                         12|                           0|                     6|                     6|                    6.0|                   0.0|                    0|                     0|                    0.0|                   0.0|       3000000.0|        500000.0|           4.0|           0.0|            4|            4|            4|          4.0|           0.0|           4|           4|            0|           0.0|           0.0|           0|           0|            0|             0|             0|             0|                  40|                 0|        500000.0|            0.0|                 6|                 6|                6.0|               0.0|                    0.0|             0|              0|              0|              0|              1|              1|              0|              0|             0|                 9.0|                  6.0|                  0.0|                  40|                 0|                    0|                 0|                  0|                    0|                0|                  2|                12|                   0|                 0|                   329|                      -1|                1|                   20|        0.0|        0.0|          0|          0|      0.0|      0.0|        0|        0|BENIGN|\n",
      "|            49188|             1|                 2|                      0|                         12|                           0|                     6|                     6|                    6.0|                   0.0|                    0|                     0|                    0.0|                   0.0|           1.2E7|       2000000.0|           1.0|           0.0|            1|            1|            1|          1.0|           0.0|           1|           1|            0|           0.0|           0.0|           0|           0|            0|             0|             0|             0|                  40|                 0|       2000000.0|            0.0|                 6|                 6|                6.0|               0.0|                    0.0|             0|              0|              0|              0|              1|              1|              0|              0|             0|                 9.0|                  6.0|                  0.0|                  40|                 0|                    0|                 0|                  0|                    0|                0|                  2|                12|                   0|                 0|                   329|                      -1|                1|                   20|        0.0|        0.0|          0|          0|      0.0|      0.0|        0|        0|BENIGN|\n",
      "|            49188|             1|                 2|                      0|                         12|                           0|                     6|                     6|                    6.0|                   0.0|                    0|                     0|                    0.0|                   0.0|           1.2E7|       2000000.0|           1.0|           0.0|            1|            1|            1|          1.0|           0.0|           1|           1|            0|           0.0|           0.0|           0|           0|            0|             0|             0|             0|                  40|                 0|       2000000.0|            0.0|                 6|                 6|                6.0|               0.0|                    0.0|             0|              0|              0|              0|              1|              1|              0|              0|             0|                 9.0|                  6.0|                  0.0|                  40|                 0|                    0|                 0|                  0|                    0|                0|                  2|                12|                   0|                 0|                   329|                      -1|                1|                   20|        0.0|        0.0|          0|          0|      0.0|      0.0|        0|        0|BENIGN|\n",
      "|            49188|             1|                 2|                      0|                         12|                           0|                     6|                     6|                    6.0|                   0.0|                    0|                     0|                    0.0|                   0.0|           1.2E7|       2000000.0|           1.0|           0.0|            1|            1|            1|          1.0|           0.0|           1|           1|            0|           0.0|           0.0|           0|           0|            0|             0|             0|             0|                  40|                 0|       2000000.0|            0.0|                 6|                 6|                6.0|               0.0|                    0.0|             0|              0|              0|              0|              1|              1|              0|              0|             0|                 9.0|                  6.0|                  0.0|                  40|                 0|                    0|                 0|                  0|                    0|                0|                  2|                12|                   0|                 0|                   329|                      -1|                1|                   20|        0.0|        0.0|          0|          0|      0.0|      0.0|        0|        0|BENIGN|\n",
      "|            49486|             3|                 2|                      0|                         12|                           0|                     6|                     6|                    6.0|                   0.0|                    0|                     0|                    0.0|                   0.0|       4000000.0|666666.666666667|           3.0|           0.0|            3|            3|            3|          3.0|           0.0|           3|           3|            0|           0.0|           0.0|           0|           0|            0|             0|             0|             0|                  40|                 0|666666.666666667|            0.0|                 6|                 6|                6.0|               0.0|                    0.0|             0|              0|              0|              0|              1|              1|              0|              0|             0|                 9.0|                  6.0|                  0.0|                  40|                 0|                    0|                 0|                  0|                    0|                0|                  2|                12|                   0|                 0|                   245|                      -1|                1|                   20|        0.0|        0.0|          0|          0|      0.0|      0.0|        0|        0|BENIGN|\n",
      "|            49486|             1|                 2|                      0|                         12|                           0|                     6|                     6|                    6.0|                   0.0|                    0|                     0|                    0.0|                   0.0|           1.2E7|       2000000.0|           1.0|           0.0|            1|            1|            1|          1.0|           0.0|           1|           1|            0|           0.0|           0.0|           0|           0|            0|             0|             0|             0|                  40|                 0|       2000000.0|            0.0|                 6|                 6|                6.0|               0.0|                    0.0|             0|              0|              0|              0|              1|              1|              0|              0|             0|                 9.0|                  6.0|                  0.0|                  40|                 0|                    0|                 0|                  0|                    0|                0|                  2|                12|                   0|                 0|                   245|                      -1|                1|                   20|        0.0|        0.0|          0|          0|      0.0|      0.0|        0|        0|BENIGN|\n",
      "|            49486|             1|                 2|                      0|                         12|                           0|                     6|                     6|                    6.0|                   0.0|                    0|                     0|                    0.0|                   0.0|           1.2E7|       2000000.0|           1.0|           0.0|            1|            1|            1|          1.0|           0.0|           1|           1|            0|           0.0|           0.0|           0|           0|            0|             0|             0|             0|                  40|                 0|       2000000.0|            0.0|                 6|                 6|                6.0|               0.0|                    0.0|             0|              0|              0|              0|              1|              1|              0|              0|             0|                 9.0|                  6.0|                  0.0|                  40|                 0|                    0|                 0|                  0|                    0|                0|                  2|                12|                   0|                 0|                   245|                      -1|                1|                   20|        0.0|        0.0|          0|          0|      0.0|      0.0|        0|        0|BENIGN|\n",
      "|            49486|             1|                 2|                      0|                         12|                           0|                     6|                     6|                    6.0|                   0.0|                    0|                     0|                    0.0|                   0.0|           1.2E7|       2000000.0|           1.0|           0.0|            1|            1|            1|          1.0|           0.0|           1|           1|            0|           0.0|           0.0|           0|           0|            0|             0|             0|             0|                  40|                 0|       2000000.0|            0.0|                 6|                 6|                6.0|               0.0|                    0.0|             0|              0|              0|              0|              1|              1|              0|              0|             0|                 9.0|                  6.0|                  0.0|                  40|                 0|                    0|                 0|                  0|                    0|                0|                  2|                12|                   0|                 0|                   245|                      -1|                1|                   20|        0.0|        0.0|          0|          0|      0.0|      0.0|        0|        0|BENIGN|\n",
      "|               88|           609|                 7|                      4|                        484|                         414|                   233|                     0|          69.1428571429|        111.9678950584|                  207|                     0|                  103.5|        119.5115057223|1474548.44006568|18062.3973727422|          60.9|115.1949555223|          381|            2|          609|        101.5|177.0895253819|         460|           2|          467|155.6666666667|263.5608721592|         460|           3|            0|             0|             0|             0|                 164|               104|11494.2528735632| 6568.144499179|                 0|               233|      74.8333333333|    107.5274454042|       11562.1515151515|             0|              0|              0|              1|              0|              0|              0|              0|             0|       81.6363636364|        69.1428571429|                103.5|                 164|                 0|                    0|                 0|                  0|                    0|                0|                  7|               484|                   4|               414|                  8192|                    2053|                5|                   20|        0.0|        0.0|          0|          0|      0.0|      0.0|        0|        0|BENIGN|\n",
      "|               88|           879|                 9|                      4|                        656|                        3064|                   313|                     0|          72.8888888889|        136.1538141629|                 1532|                     0|                  766.0|        884.5006123985| 4232081.9112628|14789.5335608646|         73.25|209.0550710394|          734|            1|          879|      109.875| 281.977424375|         806|           1|          764|254.6666666667|434.1685540586|         756|           3|            0|             0|             0|             0|                 204|               104|10238.9078498294|4550.6257110353|                 0|              1532|     265.7142857143|    547.8425417485|       300131.450549451|             0|              0|              0|              1|              0|              0|              0|              0|             0|      286.1538461538|        72.8888888889|                766.0|                 204|                 0|                    0|                 0|                  0|                    0|                0|                  9|               656|                   4|              3064|                  8192|                    2053|                7|                   20|        0.0|        0.0|          0|          0|      0.0|      0.0|        0|        0|BENIGN|\n",
      "+-----------------+--------------+------------------+-----------------------+---------------------------+----------------------------+----------------------+----------------------+-----------------------+----------------------+---------------------+----------------------+-----------------------+----------------------+----------------+----------------+--------------+--------------+-------------+-------------+-------------+-------------+--------------+------------+------------+-------------+--------------+--------------+------------+------------+-------------+--------------+--------------+--------------+--------------------+------------------+----------------+---------------+------------------+------------------+-------------------+------------------+-----------------------+--------------+---------------+---------------+---------------+---------------+---------------+---------------+---------------+--------------+--------------------+---------------------+---------------------+--------------------+------------------+---------------------+------------------+-------------------+---------------------+-----------------+-------------------+------------------+--------------------+------------------+----------------------+------------------------+-----------------+---------------------+-----------+-----------+-----------+-----------+---------+---------+---------+---------+------+\n",
      "only showing top 10 rows\n",
      "\n"
     ]
    }
   ],
   "source": [
    "df.show(10)"
   ]
  },
  {
   "cell_type": "code",
   "execution_count": 13,
   "metadata": {},
   "outputs": [
    {
     "data": {
      "text/plain": [
       "[' Destination Port',\n",
       " ' Flow Duration',\n",
       " ' Total Fwd Packets',\n",
       " ' Total Backward Packets',\n",
       " 'Total Length of Fwd Packets',\n",
       " ' Total Length of Bwd Packets',\n",
       " ' Fwd Packet Length Max',\n",
       " ' Fwd Packet Length Min',\n",
       " ' Fwd Packet Length Mean',\n",
       " ' Fwd Packet Length Std',\n",
       " 'Bwd Packet Length Max',\n",
       " ' Bwd Packet Length Min',\n",
       " ' Bwd Packet Length Mean',\n",
       " ' Bwd Packet Length Std',\n",
       " 'Flow Bytes/s',\n",
       " ' Flow Packets/s',\n",
       " ' Flow IAT Mean',\n",
       " ' Flow IAT Std',\n",
       " ' Flow IAT Max',\n",
       " ' Flow IAT Min',\n",
       " 'Fwd IAT Total',\n",
       " ' Fwd IAT Mean',\n",
       " ' Fwd IAT Std',\n",
       " ' Fwd IAT Max',\n",
       " ' Fwd IAT Min',\n",
       " 'Bwd IAT Total',\n",
       " ' Bwd IAT Mean',\n",
       " ' Bwd IAT Std',\n",
       " ' Bwd IAT Max',\n",
       " ' Bwd IAT Min',\n",
       " 'Fwd PSH Flags',\n",
       " ' Bwd PSH Flags',\n",
       " ' Fwd URG Flags',\n",
       " ' Bwd URG Flags',\n",
       " ' Fwd Header Length34',\n",
       " ' Bwd Header Length',\n",
       " 'Fwd Packets/s',\n",
       " ' Bwd Packets/s',\n",
       " ' Min Packet Length',\n",
       " ' Max Packet Length',\n",
       " ' Packet Length Mean',\n",
       " ' Packet Length Std',\n",
       " ' Packet Length Variance',\n",
       " 'FIN Flag Count',\n",
       " ' SYN Flag Count',\n",
       " ' RST Flag Count',\n",
       " ' PSH Flag Count',\n",
       " ' ACK Flag Count',\n",
       " ' URG Flag Count',\n",
       " ' CWE Flag Count',\n",
       " ' ECE Flag Count',\n",
       " ' Down/Up Ratio',\n",
       " ' Average Packet Size',\n",
       " ' Avg Fwd Segment Size',\n",
       " ' Avg Bwd Segment Size',\n",
       " ' Fwd Header Length55',\n",
       " 'Fwd Avg Bytes/Bulk',\n",
       " ' Fwd Avg Packets/Bulk',\n",
       " ' Fwd Avg Bulk Rate',\n",
       " ' Bwd Avg Bytes/Bulk',\n",
       " ' Bwd Avg Packets/Bulk',\n",
       " 'Bwd Avg Bulk Rate',\n",
       " 'Subflow Fwd Packets',\n",
       " ' Subflow Fwd Bytes',\n",
       " ' Subflow Bwd Packets',\n",
       " ' Subflow Bwd Bytes',\n",
       " 'Init_Win_bytes_forward',\n",
       " ' Init_Win_bytes_backward',\n",
       " ' act_data_pkt_fwd',\n",
       " ' min_seg_size_forward',\n",
       " 'Active Mean',\n",
       " ' Active Std',\n",
       " ' Active Max',\n",
       " ' Active Min',\n",
       " 'Idle Mean',\n",
       " ' Idle Std',\n",
       " ' Idle Max',\n",
       " ' Idle Min',\n",
       " ' Label']"
      ]
     },
     "execution_count": 13,
     "metadata": {},
     "output_type": "execute_result"
    }
   ],
   "source": [
    "df.columns"
   ]
  },
  {
   "cell_type": "code",
   "execution_count": 14,
   "metadata": {},
   "outputs": [
    {
     "name": "stdout",
     "output_type": "stream",
     "text": [
      "+-----------------+--------------+------------------+-----------------------+---------------------------+----------------------------+----------------------+----------------------+-----------------------+----------------------+---------------------+----------------------+-----------------------+----------------------+------------+---------------+--------------+-------------+-------------+-------------+-------------+-------------+------------+------------+------------+-------------+-------------+------------+------------+------------+-------------+--------------+--------------+--------------+--------------------+------------------+-------------+--------------+------------------+------------------+-------------------+------------------+-----------------------+--------------+---------------+---------------+---------------+---------------+---------------+---------------+---------------+--------------+--------------------+---------------------+---------------------+--------------------+------------------+---------------------+------------------+-------------------+---------------------+-----------------+-------------------+------------------+--------------------+------------------+----------------------+------------------------+-----------------+---------------------+-----------+-----------+-----------+-----------+---------+---------+---------+---------+------+\n",
      "| Destination Port| Flow Duration| Total Fwd Packets| Total Backward Packets|Total Length of Fwd Packets| Total Length of Bwd Packets| Fwd Packet Length Max| Fwd Packet Length Min| Fwd Packet Length Mean| Fwd Packet Length Std|Bwd Packet Length Max| Bwd Packet Length Min| Bwd Packet Length Mean| Bwd Packet Length Std|Flow Bytes/s| Flow Packets/s| Flow IAT Mean| Flow IAT Std| Flow IAT Max| Flow IAT Min|Fwd IAT Total| Fwd IAT Mean| Fwd IAT Std| Fwd IAT Max| Fwd IAT Min|Bwd IAT Total| Bwd IAT Mean| Bwd IAT Std| Bwd IAT Max| Bwd IAT Min|Fwd PSH Flags| Bwd PSH Flags| Fwd URG Flags| Bwd URG Flags| Fwd Header Length34| Bwd Header Length|Fwd Packets/s| Bwd Packets/s| Min Packet Length| Max Packet Length| Packet Length Mean| Packet Length Std| Packet Length Variance|FIN Flag Count| SYN Flag Count| RST Flag Count| PSH Flag Count| ACK Flag Count| URG Flag Count| CWE Flag Count| ECE Flag Count| Down/Up Ratio| Average Packet Size| Avg Fwd Segment Size| Avg Bwd Segment Size| Fwd Header Length55|Fwd Avg Bytes/Bulk| Fwd Avg Packets/Bulk| Fwd Avg Bulk Rate| Bwd Avg Bytes/Bulk| Bwd Avg Packets/Bulk|Bwd Avg Bulk Rate|Subflow Fwd Packets| Subflow Fwd Bytes| Subflow Bwd Packets| Subflow Bwd Bytes|Init_Win_bytes_forward| Init_Win_bytes_backward| act_data_pkt_fwd| min_seg_size_forward|Active Mean| Active Std| Active Max| Active Min|Idle Mean| Idle Std| Idle Max| Idle Min| Label|\n",
      "+-----------------+--------------+------------------+-----------------------+---------------------------+----------------------------+----------------------+----------------------+-----------------------+----------------------+---------------------+----------------------+-----------------------+----------------------+------------+---------------+--------------+-------------+-------------+-------------+-------------+-------------+------------+------------+------------+-------------+-------------+------------+------------+------------+-------------+--------------+--------------+--------------+--------------------+------------------+-------------+--------------+------------------+------------------+-------------------+------------------+-----------------------+--------------+---------------+---------------+---------------+---------------+---------------+---------------+---------------+--------------+--------------------+---------------------+---------------------+--------------------+------------------+---------------------+------------------+-------------------+---------------------+-----------------+-------------------+------------------+--------------------+------------------+----------------------+------------------------+-----------------+---------------------+-----------+-----------+-----------+-----------+---------+---------+---------+---------+------+\n",
      "|                0|             0|                 0|                      0|                          0|                           0|                     0|                     0|                      0|                     0|                    0|                     0|                      0|                     0|           0|              0|             0|            0|            0|            0|            0|            0|           0|           0|           0|            0|            0|           0|           0|           0|            0|             0|             0|             0|                   0|                 0|            0|             0|                 0|                 0|                  0|                 0|                      0|             0|              0|              0|              0|              0|              0|              0|              0|             0|                   0|                    0|                    0|                   0|                 0|                    0|                 0|                  0|                    0|                0|                  0|                 0|                   0|                 0|                     0|                       0|                0|                    0|          0|          0|          0|          0|        0|        0|        0|        0|     0|\n",
      "+-----------------+--------------+------------------+-----------------------+---------------------------+----------------------------+----------------------+----------------------+-----------------------+----------------------+---------------------+----------------------+-----------------------+----------------------+------------+---------------+--------------+-------------+-------------+-------------+-------------+-------------+------------+------------+------------+-------------+-------------+------------+------------+------------+-------------+--------------+--------------+--------------+--------------------+------------------+-------------+--------------+------------------+------------------+-------------------+------------------+-----------------------+--------------+---------------+---------------+---------------+---------------+---------------+---------------+---------------+--------------+--------------------+---------------------+---------------------+--------------------+------------------+---------------------+------------------+-------------------+---------------------+-----------------+-------------------+------------------+--------------------+------------------+----------------------+------------------------+-----------------+---------------------+-----------+-----------+-----------+-----------+---------+---------+---------+---------+------+\n",
      "\n"
     ]
    }
   ],
   "source": [
    "null_counts = df.select([\n",
    "    count(when(col(c).isNull(), c)).alias(c)\n",
    "    for c in df.columns\n",
    "])\n",
    "\n",
    "null_counts.show()"
   ]
  }
 ],
 "metadata": {
  "kernelspec": {
   "display_name": "Python 3",
   "language": "python",
   "name": "python3"
  },
  "language_info": {
   "codemirror_mode": {
    "name": "ipython",
    "version": 3
   },
   "file_extension": ".py",
   "mimetype": "text/x-python",
   "name": "python",
   "nbconvert_exporter": "python",
   "pygments_lexer": "ipython3",
   "version": "3.11.9"
  }
 },
 "nbformat": 4,
 "nbformat_minor": 2
}
