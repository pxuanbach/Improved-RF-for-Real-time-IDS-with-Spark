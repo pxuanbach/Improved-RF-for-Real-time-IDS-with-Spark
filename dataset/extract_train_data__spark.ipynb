{
 "cells": [
  {
   "cell_type": "code",
   "execution_count": 43,
   "metadata": {},
   "outputs": [],
   "source": [
    "from pathlib import Path\n",
    "import numpy as np\n",
    "import pandas as pd\n",
    "import glob\n",
    "import matplotlib.pyplot as plt\n",
    "\n",
    "from pyspark.sql import SparkSession\n",
    "# from pyspark.conf import SparkConf\n",
    "from pyspark.sql.functions import col, sum, count, when, lit, udf\n",
    "from pyspark.ml.feature import MinMaxScaler, VectorAssembler\n",
    "from pyspark.ml.linalg import Vectors, VectorUDT\n",
    "from pyspark.ml import Pipeline\n",
    "from pyspark.sql.types import DoubleType, ArrayType\n",
    "\n",
    "from skrebate import ReliefF"
   ]
  },
  {
   "cell_type": "code",
   "execution_count": 3,
   "metadata": {},
   "outputs": [
    {
     "name": "stdout",
     "output_type": "stream",
     "text": [
      "Spark Version: 3.5.1\n"
     ]
    }
   ],
   "source": [
    "# Initialize Spark Session\n",
    "spark: SparkSession = SparkSession.builder\\\n",
    "    .appName(\"pyspark-notebook\")\\\n",
    "    .master(\"spark://127.0.0.1:7077\")\\\n",
    "    .config(\"spark.driver.host\", \"host.docker.internal\") \\\n",
    "    .config(\"spark.driver.bindAddress\", \"0.0.0.0\")\\\n",
    "    .config(\"spark.executor.memory\", \"2g\")\\\n",
    "    .config(\"spark.executor.cores\", \"1\") \\\n",
    "    .config(\"spark.executor.instances\", \"2\")\\\n",
    "    .config(\"spark.hadoop.fs.s3a.block.size\", \"33554432\") \\\n",
    "    .config(\"spark.hadoop.fs.s3a.endpoint\", \"http://minio:9000\") \\\n",
    "    .config(\"spark.hadoop.fs.s3a.access.key\", \"admin\") \\\n",
    "    .config(\"spark.hadoop.fs.s3a.secret.key\", \"password\") \\\n",
    "    .config(\"spark.hadoop.fs.s3a.path.style.access\", \"true\") \\\n",
    "    .config(\"spark.hadoop.fs.s3a.connection.ssl.enabled\", \"false\")\\\n",
    "    .config(\"spark.hadoop.fs.s3a.impl\", \"org.apache.hadoop.fs.s3a.S3AFileSystem\") \\\n",
    "    .config(\"spark.hadoop.fs.s3a.aws.credentials.provider\", \"org.apache.hadoop.fs.s3a.SimpleAWSCredentialsProvider\") \\\n",
    "    .config(\"spark.hadoop.fs.s3a.attempts.maximum\", \"0\") \\\n",
    "    .getOrCreate()\n",
    "\n",
    "print(f\"Spark Version: {spark.version}\")"
   ]
  },
  {
   "cell_type": "code",
   "execution_count": 4,
   "metadata": {},
   "outputs": [
    {
     "name": "stdout",
     "output_type": "stream",
     "text": [
      "s3a://mybucket/cicids2017\\Friday-WorkingHours-Afternoon-DDos.pcap_ISCX.csv\n",
      "s3a://mybucket/cicids2017\\Friday-WorkingHours-Afternoon-PortScan.pcap_ISCX.csv\n",
      "s3a://mybucket/cicids2017\\Friday-WorkingHours-Morning.pcap_ISCX.csv\n",
      "s3a://mybucket/cicids2017\\Monday-WorkingHours.pcap_ISCX.csv\n",
      "s3a://mybucket/cicids2017\\Thursday-WorkingHours-Afternoon-Infilteration.pcap_ISCX.csv\n",
      "s3a://mybucket/cicids2017\\Thursday-WorkingHours-Morning-WebAttacks.pcap_ISCX.csv\n",
      "s3a://mybucket/cicids2017\\Tuesday-WorkingHours.pcap_ISCX.csv\n",
      "s3a://mybucket/cicids2017\\Wednesday-workingHours.pcap_ISCX.csv\n"
     ]
    }
   ],
   "source": [
    "volume_path = \"s3a://mybucket/cicids2017\" \n",
    "\n",
    "local_path = \"./CICIDS2017\"\n",
    "all_files = glob.glob(local_path + \"/*.csv\")\n",
    "\n",
    "volume_files = [volume_path + file.removeprefix(local_path) for file in all_files]\n",
    "print(\"\\n\".join(volume_files))"
   ]
  },
  {
   "cell_type": "code",
   "execution_count": 5,
   "metadata": {},
   "outputs": [],
   "source": [
    "df = spark.read \\\n",
    "    .option(\"nullValue\", \"NA\") \\\n",
    "    .option(\"emptyValue\", \"unknown\") \\\n",
    "    .csv(volume_files, header=True, inferSchema=True) \\\n",
    "    .repartition(12) \\\n",
    "    .cache()"
   ]
  },
  {
   "cell_type": "code",
   "execution_count": 6,
   "metadata": {},
   "outputs": [
    {
     "name": "stdout",
     "output_type": "stream",
     "text": [
      "+-----------------+--------------+------------------+-----------------------+---------------------------+----------------------------+----------------------+----------------------+-----------------------+----------------------+---------------------+----------------------+-----------------------+----------------------+------------+---------------+--------------+-------------+-------------+-------------+-------------+-------------+------------+------------+------------+-------------+-------------+------------+------------+------------+-------------+--------------+--------------+--------------+--------------------+------------------+-------------+--------------+------------------+------------------+-------------------+------------------+-----------------------+--------------+---------------+---------------+---------------+---------------+---------------+---------------+---------------+--------------+--------------------+---------------------+---------------------+--------------------+------------------+---------------------+------------------+-------------------+---------------------+-----------------+-------------------+------------------+--------------------+------------------+----------------------+------------------------+-----------------+---------------------+-----------+-----------+-----------+-----------+---------+---------+---------+---------+------+\n",
      "| Destination Port| Flow Duration| Total Fwd Packets| Total Backward Packets|Total Length of Fwd Packets| Total Length of Bwd Packets| Fwd Packet Length Max| Fwd Packet Length Min| Fwd Packet Length Mean| Fwd Packet Length Std|Bwd Packet Length Max| Bwd Packet Length Min| Bwd Packet Length Mean| Bwd Packet Length Std|Flow Bytes/s| Flow Packets/s| Flow IAT Mean| Flow IAT Std| Flow IAT Max| Flow IAT Min|Fwd IAT Total| Fwd IAT Mean| Fwd IAT Std| Fwd IAT Max| Fwd IAT Min|Bwd IAT Total| Bwd IAT Mean| Bwd IAT Std| Bwd IAT Max| Bwd IAT Min|Fwd PSH Flags| Bwd PSH Flags| Fwd URG Flags| Bwd URG Flags| Fwd Header Length34| Bwd Header Length|Fwd Packets/s| Bwd Packets/s| Min Packet Length| Max Packet Length| Packet Length Mean| Packet Length Std| Packet Length Variance|FIN Flag Count| SYN Flag Count| RST Flag Count| PSH Flag Count| ACK Flag Count| URG Flag Count| CWE Flag Count| ECE Flag Count| Down/Up Ratio| Average Packet Size| Avg Fwd Segment Size| Avg Bwd Segment Size| Fwd Header Length55|Fwd Avg Bytes/Bulk| Fwd Avg Packets/Bulk| Fwd Avg Bulk Rate| Bwd Avg Bytes/Bulk| Bwd Avg Packets/Bulk|Bwd Avg Bulk Rate|Subflow Fwd Packets| Subflow Fwd Bytes| Subflow Bwd Packets| Subflow Bwd Bytes|Init_Win_bytes_forward| Init_Win_bytes_backward| act_data_pkt_fwd| min_seg_size_forward|Active Mean| Active Std| Active Max| Active Min|Idle Mean| Idle Std| Idle Max| Idle Min| Label|\n",
      "+-----------------+--------------+------------------+-----------------------+---------------------------+----------------------------+----------------------+----------------------+-----------------------+----------------------+---------------------+----------------------+-----------------------+----------------------+------------+---------------+--------------+-------------+-------------+-------------+-------------+-------------+------------+------------+------------+-------------+-------------+------------+------------+------------+-------------+--------------+--------------+--------------+--------------------+------------------+-------------+--------------+------------------+------------------+-------------------+------------------+-----------------------+--------------+---------------+---------------+---------------+---------------+---------------+---------------+---------------+--------------+--------------------+---------------------+---------------------+--------------------+------------------+---------------------+------------------+-------------------+---------------------+-----------------+-------------------+------------------+--------------------+------------------+----------------------+------------------------+-----------------+---------------------+-----------+-----------+-----------+-----------+---------+---------+---------+---------+------+\n",
      "|               53|        120719|                 1|                      1|                         60|                         175|                    60|                    60|                   60.0|                   0.0|                  175|                   175|                  175.0|                   0.0| 1946.669538|    16.56740033|      120719.0|          0.0|       120719|       120719|            0|          0.0|         0.0|           0|           0|            0|          0.0|         0.0|           0|           0|            0|             0|             0|             0|                  32|                32|  8.283700163|   8.283700163|                60|               175|        98.33333333|       66.39528096|            4408.333333|             0|              0|              0|              0|              0|              0|              0|              0|             1|               147.5|                 60.0|                175.0|                  32|                 0|                    0|                 0|                  0|                    0|                0|                  1|                60|                   1|               175|                    -1|                      -1|                0|                   32|        0.0|        0.0|          0|          0|      0.0|      0.0|        0|        0|BENIGN|\n",
      "|               53|           160|                 2|                      2|                         90|                         146|                    45|                    45|                   45.0|                   0.0|                   73|                    73|                   73.0|                   0.0|   1475000.0|        25000.0|   53.33333333|  87.17989065|          154|            3|            3|          3.0|         0.0|           3|           3|            3|          3.0|         0.0|           3|           3|            0|             0|             0|             0|                  64|                64|      12500.0|       12500.0|                45|                73|               56.2|       15.33623161|                  235.2|             0|              0|              0|              0|              0|              0|              0|              0|             1|               70.25|                 45.0|                 73.0|                  64|                 0|                    0|                 0|                  0|                    0|                0|                  2|                90|                   2|               146|                    -1|                      -1|                1|                   32|        0.0|        0.0|          0|          0|      0.0|      0.0|        0|        0|BENIGN|\n",
      "|               53|        252128|                 1|                      1|                         44|                          97|                    44|                    44|                   44.0|                   0.0|                   97|                    97|                   97.0|                   0.0| 559.2397512|    7.932478741|      252128.0|          0.0|       252128|       252128|            0|          0.0|         0.0|           0|           0|            0|          0.0|         0.0|           0|           0|            0|             0|             0|             0|                  20|                32|   3.96623937|    3.96623937|                44|                97|        61.66666667|       30.59956427|            936.3333333|             0|              0|              0|              0|              0|              0|              0|              0|             1|                92.5|                 44.0|                 97.0|                  20|                 0|                    0|                 0|                  0|                    0|                0|                  1|                44|                   1|                97|                    -1|                      -1|                0|                   20|        0.0|        0.0|          0|          0|      0.0|      0.0|        0|        0|BENIGN|\n",
      "|              443|           367|                 3|                      0|                         58|                           0|                    46|                     6|            19.33333333|           23.09401077|                    0|                     0|                    0.0|                   0.0| 158038.1471|    8174.386921|         183.5|  19.09188309|          197|          170|          367|        183.5| 19.09188309|         197|         170|            0|          0.0|         0.0|           0|           0|            0|             0|             0|             0|                  60|                 0|  8174.386921|           0.0|                 6|                46|               16.0|              20.0|                  400.0|             0|              0|              0|              0|              1|              0|              0|              0|             0|         21.33333333|          19.33333333|                  0.0|                  60|                 0|                    0|                 0|                  0|                    0|                0|                  3|                58|                   0|                 0|                   252|                      -1|                2|                   20|        0.0|        0.0|          0|          0|      0.0|      0.0|        0|        0|BENIGN|\n",
      "|               53|           169|                 2|                      2|                         86|                         118|                    43|                    43|                   43.0|                   0.0|                   59|                    59|                   59.0|                   0.0| 1207100.592|    23668.63905|   56.33333333|   57.3527099|          117|            3|            3|          3.0|         0.0|           3|           3|           49|         49.0|         0.0|          49|          49|            0|             0|             0|             0|                  64|                64|  11834.31953|   11834.31953|                43|                59|               49.4|        8.76356092|                   76.8|             0|              0|              0|              0|              0|              0|              0|              0|             1|               61.75|                 43.0|                 59.0|                  64|                 0|                    0|                 0|                  0|                    0|                0|                  2|                86|                   2|               118|                    -1|                      -1|                1|                   32|        0.0|        0.0|          0|          0|      0.0|      0.0|        0|        0|BENIGN|\n",
      "|              443|       5054926|                 9|                      6|                        710|                        3781|                   517|                     0|            78.88888889|           172.6567726|                 1448|                     0|            630.1666667|           675.6864411| 888.4403056|     2.96740249|   361066.1429|  1317722.404|      4939144|            3|      5054926|    631865.75| 1740531.367|     4939144|          49|        54548|      10909.6| 13699.54582|       27595|          49|            0|             0|             0|             0|                 296|               200|  1.780441494|   1.186960996|                 0|              1448|           280.6875|       496.6116818|            246623.1625|             0|              0|              0|              1|              0|              0|              0|              0|             0|               299.4|          78.88888889|          630.1666667|                 296|                 0|                    0|                 0|                  0|                    0|                0|                  9|               710|                   6|              3781|                 29200|                     287|                3|                   32|        0.0|        0.0|          0|          0|      0.0|      0.0|        0|        0|BENIGN|\n",
      "|            34842|            48|                 2|                      0|                          0|                           0|                     0|                     0|                    0.0|                   0.0|                    0|                     0|                    0.0|                   0.0|         0.0|    41666.66667|          48.0|          0.0|           48|           48|           48|         48.0|         0.0|          48|          48|            0|          0.0|         0.0|           0|           0|            0|             0|             0|             0|                  64|                 0|  41666.66667|           0.0|                 0|                 0|                0.0|               0.0|                    0.0|             0|              0|              0|              0|              1|              0|              0|              0|             0|                 0.0|                  0.0|                  0.0|                  64|                 0|                    0|                 0|                  0|                    0|                0|                  2|                 0|                   0|                 0|                   227|                      -1|                0|                   32|        0.0|        0.0|          0|          0|      0.0|      0.0|        0|        0|BENIGN|\n",
      "|               53|           278|                 2|                      2|                         94|                         350|                    47|                    47|                   47.0|                   0.0|                  175|                   175|                  175.0|                   0.0| 1597122.302|    14388.48921|   92.66666667|  117.5471537|          226|            4|           48|         48.0|         0.0|          48|          48|            4|          4.0|         0.0|           4|           4|            0|             0|             0|             0|                  40|                40|  7194.244604|   7194.244604|                47|               175|               98.2|       70.10848736|                 4915.2|             0|              0|              0|              0|              0|              0|              0|              0|             1|              122.75|                 47.0|                175.0|                  40|                 0|                    0|                 0|                  0|                    0|                0|                  2|                94|                   2|               350|                    -1|                      -1|                1|                   20|        0.0|        0.0|          0|          0|      0.0|      0.0|        0|        0|BENIGN|\n",
      "|               53|       3431783|                 4|                      4|                        174|                         542|                    47|                    40|                   43.5|           4.041451884|                  137|                   134|                  135.5|           1.732050808| 208.6379005|    2.331149726|   490254.7143|  1265047.474|      3358810|            3|      3407217|    1135739.0| 1966988.779|     3407022|           3|      3383428|  1127809.333| 1953214.356|     3383187|          49|            0|             0|             0|             0|                  80|                80|  1.165574863|   1.165574863|                40|               137|        84.77777778|       48.20730696|            2323.944444|             0|              0|              0|              0|              0|              0|              0|              0|             1|              95.375|                 43.5|                135.5|                  80|                 0|                    0|                 0|                  0|                    0|                0|                  4|               174|                   4|               542|                    -1|                      -1|                3|                   20|        0.0|        0.0|          0|          0|      0.0|      0.0|        0|        0|BENIGN|\n",
      "|               53|           174|                 2|                      2|                        154|                         250|                    77|                    77|                   77.0|                   0.0|                  125|                   125|                  125.0|                   0.0|  2321839.08|    22988.50575|          58.0|   94.3980932|          167|            3|            4|          4.0|         0.0|           4|           4|            3|          3.0|         0.0|           3|           3|            0|             0|             0|             0|                  64|                64|  11494.25287|   11494.25287|                77|               125|               96.2|       26.29068276|                  691.2|             0|              0|              0|              0|              0|              0|              0|              0|             1|              120.25|                 77.0|                125.0|                  64|                 0|                    0|                 0|                  0|                    0|                0|                  2|               154|                   2|               250|                    -1|                      -1|                1|                   32|        0.0|        0.0|          0|          0|      0.0|      0.0|        0|        0|BENIGN|\n",
      "+-----------------+--------------+------------------+-----------------------+---------------------------+----------------------------+----------------------+----------------------+-----------------------+----------------------+---------------------+----------------------+-----------------------+----------------------+------------+---------------+--------------+-------------+-------------+-------------+-------------+-------------+------------+------------+------------+-------------+-------------+------------+------------+------------+-------------+--------------+--------------+--------------+--------------------+------------------+-------------+--------------+------------------+------------------+-------------------+------------------+-----------------------+--------------+---------------+---------------+---------------+---------------+---------------+---------------+---------------+--------------+--------------------+---------------------+---------------------+--------------------+------------------+---------------------+------------------+-------------------+---------------------+-----------------+-------------------+------------------+--------------------+------------------+----------------------+------------------------+-----------------+---------------------+-----------+-----------+-----------+-----------+---------+---------+---------+---------+------+\n",
      "only showing top 10 rows\n",
      "\n"
     ]
    }
   ],
   "source": [
    "df.show(10)"
   ]
  },
  {
   "cell_type": "code",
   "execution_count": 7,
   "metadata": {},
   "outputs": [
    {
     "data": {
      "text/plain": [
       "[' Destination Port',\n",
       " ' Flow Duration',\n",
       " ' Total Fwd Packets',\n",
       " ' Total Backward Packets',\n",
       " 'Total Length of Fwd Packets',\n",
       " ' Total Length of Bwd Packets',\n",
       " ' Fwd Packet Length Max',\n",
       " ' Fwd Packet Length Min',\n",
       " ' Fwd Packet Length Mean',\n",
       " ' Fwd Packet Length Std',\n",
       " 'Bwd Packet Length Max',\n",
       " ' Bwd Packet Length Min',\n",
       " ' Bwd Packet Length Mean',\n",
       " ' Bwd Packet Length Std',\n",
       " 'Flow Bytes/s',\n",
       " ' Flow Packets/s',\n",
       " ' Flow IAT Mean',\n",
       " ' Flow IAT Std',\n",
       " ' Flow IAT Max',\n",
       " ' Flow IAT Min',\n",
       " 'Fwd IAT Total',\n",
       " ' Fwd IAT Mean',\n",
       " ' Fwd IAT Std',\n",
       " ' Fwd IAT Max',\n",
       " ' Fwd IAT Min',\n",
       " 'Bwd IAT Total',\n",
       " ' Bwd IAT Mean',\n",
       " ' Bwd IAT Std',\n",
       " ' Bwd IAT Max',\n",
       " ' Bwd IAT Min',\n",
       " 'Fwd PSH Flags',\n",
       " ' Bwd PSH Flags',\n",
       " ' Fwd URG Flags',\n",
       " ' Bwd URG Flags',\n",
       " ' Fwd Header Length34',\n",
       " ' Bwd Header Length',\n",
       " 'Fwd Packets/s',\n",
       " ' Bwd Packets/s',\n",
       " ' Min Packet Length',\n",
       " ' Max Packet Length',\n",
       " ' Packet Length Mean',\n",
       " ' Packet Length Std',\n",
       " ' Packet Length Variance',\n",
       " 'FIN Flag Count',\n",
       " ' SYN Flag Count',\n",
       " ' RST Flag Count',\n",
       " ' PSH Flag Count',\n",
       " ' ACK Flag Count',\n",
       " ' URG Flag Count',\n",
       " ' CWE Flag Count',\n",
       " ' ECE Flag Count',\n",
       " ' Down/Up Ratio',\n",
       " ' Average Packet Size',\n",
       " ' Avg Fwd Segment Size',\n",
       " ' Avg Bwd Segment Size',\n",
       " ' Fwd Header Length55',\n",
       " 'Fwd Avg Bytes/Bulk',\n",
       " ' Fwd Avg Packets/Bulk',\n",
       " ' Fwd Avg Bulk Rate',\n",
       " ' Bwd Avg Bytes/Bulk',\n",
       " ' Bwd Avg Packets/Bulk',\n",
       " 'Bwd Avg Bulk Rate',\n",
       " 'Subflow Fwd Packets',\n",
       " ' Subflow Fwd Bytes',\n",
       " ' Subflow Bwd Packets',\n",
       " ' Subflow Bwd Bytes',\n",
       " 'Init_Win_bytes_forward',\n",
       " ' Init_Win_bytes_backward',\n",
       " ' act_data_pkt_fwd',\n",
       " ' min_seg_size_forward',\n",
       " 'Active Mean',\n",
       " ' Active Std',\n",
       " ' Active Max',\n",
       " ' Active Min',\n",
       " 'Idle Mean',\n",
       " ' Idle Std',\n",
       " ' Idle Max',\n",
       " ' Idle Min',\n",
       " ' Label']"
      ]
     },
     "execution_count": 7,
     "metadata": {},
     "output_type": "execute_result"
    }
   ],
   "source": [
    "df.columns"
   ]
  },
  {
   "cell_type": "markdown",
   "metadata": {},
   "source": [
    "Count the number of null values in each column"
   ]
  },
  {
   "cell_type": "code",
   "execution_count": 8,
   "metadata": {},
   "outputs": [
    {
     "name": "stdout",
     "output_type": "stream",
     "text": [
      "+-----------------+--------------+------------------+-----------------------+---------------------------+----------------------------+----------------------+----------------------+-----------------------+----------------------+---------------------+----------------------+-----------------------+----------------------+------------+---------------+--------------+-------------+-------------+-------------+-------------+-------------+------------+------------+------------+-------------+-------------+------------+------------+------------+-------------+--------------+--------------+--------------+--------------------+------------------+-------------+--------------+------------------+------------------+-------------------+------------------+-----------------------+--------------+---------------+---------------+---------------+---------------+---------------+---------------+---------------+--------------+--------------------+---------------------+---------------------+--------------------+------------------+---------------------+------------------+-------------------+---------------------+-----------------+-------------------+------------------+--------------------+------------------+----------------------+------------------------+-----------------+---------------------+-----------+-----------+-----------+-----------+---------+---------+---------+---------+------+\n",
      "| Destination Port| Flow Duration| Total Fwd Packets| Total Backward Packets|Total Length of Fwd Packets| Total Length of Bwd Packets| Fwd Packet Length Max| Fwd Packet Length Min| Fwd Packet Length Mean| Fwd Packet Length Std|Bwd Packet Length Max| Bwd Packet Length Min| Bwd Packet Length Mean| Bwd Packet Length Std|Flow Bytes/s| Flow Packets/s| Flow IAT Mean| Flow IAT Std| Flow IAT Max| Flow IAT Min|Fwd IAT Total| Fwd IAT Mean| Fwd IAT Std| Fwd IAT Max| Fwd IAT Min|Bwd IAT Total| Bwd IAT Mean| Bwd IAT Std| Bwd IAT Max| Bwd IAT Min|Fwd PSH Flags| Bwd PSH Flags| Fwd URG Flags| Bwd URG Flags| Fwd Header Length34| Bwd Header Length|Fwd Packets/s| Bwd Packets/s| Min Packet Length| Max Packet Length| Packet Length Mean| Packet Length Std| Packet Length Variance|FIN Flag Count| SYN Flag Count| RST Flag Count| PSH Flag Count| ACK Flag Count| URG Flag Count| CWE Flag Count| ECE Flag Count| Down/Up Ratio| Average Packet Size| Avg Fwd Segment Size| Avg Bwd Segment Size| Fwd Header Length55|Fwd Avg Bytes/Bulk| Fwd Avg Packets/Bulk| Fwd Avg Bulk Rate| Bwd Avg Bytes/Bulk| Bwd Avg Packets/Bulk|Bwd Avg Bulk Rate|Subflow Fwd Packets| Subflow Fwd Bytes| Subflow Bwd Packets| Subflow Bwd Bytes|Init_Win_bytes_forward| Init_Win_bytes_backward| act_data_pkt_fwd| min_seg_size_forward|Active Mean| Active Std| Active Max| Active Min|Idle Mean| Idle Std| Idle Max| Idle Min| Label|\n",
      "+-----------------+--------------+------------------+-----------------------+---------------------------+----------------------------+----------------------+----------------------+-----------------------+----------------------+---------------------+----------------------+-----------------------+----------------------+------------+---------------+--------------+-------------+-------------+-------------+-------------+-------------+------------+------------+------------+-------------+-------------+------------+------------+------------+-------------+--------------+--------------+--------------+--------------------+------------------+-------------+--------------+------------------+------------------+-------------------+------------------+-----------------------+--------------+---------------+---------------+---------------+---------------+---------------+---------------+---------------+--------------+--------------------+---------------------+---------------------+--------------------+------------------+---------------------+------------------+-------------------+---------------------+-----------------+-------------------+------------------+--------------------+------------------+----------------------+------------------------+-----------------+---------------------+-----------+-----------+-----------+-----------+---------+---------+---------+---------+------+\n",
      "|                0|             0|                 0|                      0|                          0|                           0|                     0|                     0|                      0|                     0|                    0|                     0|                      0|                     0|           0|              0|             0|            0|            0|            0|            0|            0|           0|           0|           0|            0|            0|           0|           0|           0|            0|             0|             0|             0|                   0|                 0|            0|             0|                 0|                 0|                  0|                 0|                      0|             0|              0|              0|              0|              0|              0|              0|              0|             0|                   0|                    0|                    0|                   0|                 0|                    0|                 0|                  0|                    0|                0|                  0|                 0|                   0|                 0|                     0|                       0|                0|                    0|          0|          0|          0|          0|        0|        0|        0|        0|     0|\n",
      "+-----------------+--------------+------------------+-----------------------+---------------------------+----------------------------+----------------------+----------------------+-----------------------+----------------------+---------------------+----------------------+-----------------------+----------------------+------------+---------------+--------------+-------------+-------------+-------------+-------------+-------------+------------+------------+------------+-------------+-------------+------------+------------+------------+-------------+--------------+--------------+--------------+--------------------+------------------+-------------+--------------+------------------+------------------+-------------------+------------------+-----------------------+--------------+---------------+---------------+---------------+---------------+---------------+---------------+---------------+--------------+--------------------+---------------------+---------------------+--------------------+------------------+---------------------+------------------+-------------------+---------------------+-----------------+-------------------+------------------+--------------------+------------------+----------------------+------------------------+-----------------+---------------------+-----------+-----------+-----------+-----------+---------+---------+---------+---------+------+\n",
      "\n"
     ]
    }
   ],
   "source": [
    "null_counts = df.select([count(when(col(c).isNull(), c)).alias(c) for c in df.columns])\n",
    "\n",
    "null_counts.show()"
   ]
  },
  {
   "cell_type": "code",
   "execution_count": 9,
   "metadata": {},
   "outputs": [],
   "source": [
    "# Rename the ' Label' column to 'Label'\n",
    "df = df.withColumnRenamed(' Label', 'Label')"
   ]
  },
  {
   "cell_type": "markdown",
   "metadata": {},
   "source": [
    "Check if there are any null values in the DataFrame"
   ]
  },
  {
   "cell_type": "code",
   "execution_count": 10,
   "metadata": {},
   "outputs": [
    {
     "name": "stdout",
     "output_type": "stream",
     "text": [
      "Any nulls in DataFrame: False\n"
     ]
    }
   ],
   "source": [
    "has_nulls = df.select([count(when(col(c).isNull(), c)).alias(c) for c in df.columns]).toPandas().sum().sum() > 0\n",
    "print(\"Any nulls in DataFrame:\", has_nulls)"
   ]
  },
  {
   "cell_type": "markdown",
   "metadata": {},
   "source": [
    "Remove duplicated columns"
   ]
  },
  {
   "cell_type": "code",
   "execution_count": 11,
   "metadata": {},
   "outputs": [],
   "source": [
    "unique_columns = list(dict.fromkeys(df.columns))\n",
    "df = df.select(unique_columns)"
   ]
  },
  {
   "cell_type": "markdown",
   "metadata": {},
   "source": [
    "Get more details"
   ]
  },
  {
   "cell_type": "code",
   "execution_count": 12,
   "metadata": {},
   "outputs": [
    {
     "name": "stdout",
     "output_type": "stream",
     "text": [
      "Data types of columns:\n",
      "root\n",
      " |--  Destination Port: integer (nullable = true)\n",
      " |--  Flow Duration: integer (nullable = true)\n",
      " |--  Total Fwd Packets: integer (nullable = true)\n",
      " |--  Total Backward Packets: integer (nullable = true)\n",
      " |-- Total Length of Fwd Packets: integer (nullable = true)\n",
      " |--  Total Length of Bwd Packets: integer (nullable = true)\n",
      " |--  Fwd Packet Length Max: integer (nullable = true)\n",
      " |--  Fwd Packet Length Min: integer (nullable = true)\n",
      " |--  Fwd Packet Length Mean: double (nullable = true)\n",
      " |--  Fwd Packet Length Std: double (nullable = true)\n",
      " |-- Bwd Packet Length Max: integer (nullable = true)\n",
      " |--  Bwd Packet Length Min: integer (nullable = true)\n",
      " |--  Bwd Packet Length Mean: double (nullable = true)\n",
      " |--  Bwd Packet Length Std: double (nullable = true)\n",
      " |-- Flow Bytes/s: double (nullable = true)\n",
      " |--  Flow Packets/s: double (nullable = true)\n",
      " |--  Flow IAT Mean: double (nullable = true)\n",
      " |--  Flow IAT Std: double (nullable = true)\n",
      " |--  Flow IAT Max: integer (nullable = true)\n",
      " |--  Flow IAT Min: integer (nullable = true)\n",
      " |-- Fwd IAT Total: integer (nullable = true)\n",
      " |--  Fwd IAT Mean: double (nullable = true)\n",
      " |--  Fwd IAT Std: double (nullable = true)\n",
      " |--  Fwd IAT Max: integer (nullable = true)\n",
      " |--  Fwd IAT Min: integer (nullable = true)\n",
      " |-- Bwd IAT Total: integer (nullable = true)\n",
      " |--  Bwd IAT Mean: double (nullable = true)\n",
      " |--  Bwd IAT Std: double (nullable = true)\n",
      " |--  Bwd IAT Max: integer (nullable = true)\n",
      " |--  Bwd IAT Min: integer (nullable = true)\n",
      " |-- Fwd PSH Flags: integer (nullable = true)\n",
      " |--  Bwd PSH Flags: integer (nullable = true)\n",
      " |--  Fwd URG Flags: integer (nullable = true)\n",
      " |--  Bwd URG Flags: integer (nullable = true)\n",
      " |--  Fwd Header Length34: long (nullable = true)\n",
      " |--  Bwd Header Length: integer (nullable = true)\n",
      " |-- Fwd Packets/s: double (nullable = true)\n",
      " |--  Bwd Packets/s: double (nullable = true)\n",
      " |--  Min Packet Length: integer (nullable = true)\n",
      " |--  Max Packet Length: integer (nullable = true)\n",
      " |--  Packet Length Mean: double (nullable = true)\n",
      " |--  Packet Length Std: double (nullable = true)\n",
      " |--  Packet Length Variance: double (nullable = true)\n",
      " |-- FIN Flag Count: integer (nullable = true)\n",
      " |--  SYN Flag Count: integer (nullable = true)\n",
      " |--  RST Flag Count: integer (nullable = true)\n",
      " |--  PSH Flag Count: integer (nullable = true)\n",
      " |--  ACK Flag Count: integer (nullable = true)\n",
      " |--  URG Flag Count: integer (nullable = true)\n",
      " |--  CWE Flag Count: integer (nullable = true)\n",
      " |--  ECE Flag Count: integer (nullable = true)\n",
      " |--  Down/Up Ratio: integer (nullable = true)\n",
      " |--  Average Packet Size: double (nullable = true)\n",
      " |--  Avg Fwd Segment Size: double (nullable = true)\n",
      " |--  Avg Bwd Segment Size: double (nullable = true)\n",
      " |--  Fwd Header Length55: long (nullable = true)\n",
      " |-- Fwd Avg Bytes/Bulk: integer (nullable = true)\n",
      " |--  Fwd Avg Packets/Bulk: integer (nullable = true)\n",
      " |--  Fwd Avg Bulk Rate: integer (nullable = true)\n",
      " |--  Bwd Avg Bytes/Bulk: integer (nullable = true)\n",
      " |--  Bwd Avg Packets/Bulk: integer (nullable = true)\n",
      " |-- Bwd Avg Bulk Rate: integer (nullable = true)\n",
      " |-- Subflow Fwd Packets: integer (nullable = true)\n",
      " |--  Subflow Fwd Bytes: integer (nullable = true)\n",
      " |--  Subflow Bwd Packets: integer (nullable = true)\n",
      " |--  Subflow Bwd Bytes: integer (nullable = true)\n",
      " |-- Init_Win_bytes_forward: integer (nullable = true)\n",
      " |--  Init_Win_bytes_backward: integer (nullable = true)\n",
      " |--  act_data_pkt_fwd: integer (nullable = true)\n",
      " |--  min_seg_size_forward: integer (nullable = true)\n",
      " |-- Active Mean: double (nullable = true)\n",
      " |--  Active Std: double (nullable = true)\n",
      " |--  Active Max: integer (nullable = true)\n",
      " |--  Active Min: integer (nullable = true)\n",
      " |-- Idle Mean: double (nullable = true)\n",
      " |--  Idle Std: double (nullable = true)\n",
      " |--  Idle Max: integer (nullable = true)\n",
      " |--  Idle Min: integer (nullable = true)\n",
      " |-- Label: string (nullable = true)\n",
      "\n"
     ]
    }
   ],
   "source": [
    "print(\"Data types of columns:\")\n",
    "df.printSchema()"
   ]
  },
  {
   "cell_type": "code",
   "execution_count": 13,
   "metadata": {},
   "outputs": [
    {
     "name": "stdout",
     "output_type": "stream",
     "text": [
      "+-------+-----------------+--------------------+------------------+-----------------------+---------------------------+----------------------------+----------------------+----------------------+-----------------------+----------------------+---------------------+----------------------+-----------------------+----------------------+------------+---------------+------------------+------------------+--------------------+------------------+--------------------+------------------+------------------+--------------------+-----------------+-------------------+------------------+------------------+-------------------+-----------------+-------------------+--------------+--------------------+--------------+--------------------+-------------------+------------------+-----------------+------------------+------------------+-------------------+------------------+-----------------------+--------------------+-------------------+--------------------+-------------------+-------------------+-------------------+--------------------+--------------------+------------------+--------------------+---------------------+---------------------+--------------------+------------------+---------------------+------------------+-------------------+---------------------+-----------------+-------------------+------------------+--------------------+------------------+----------------------+------------------------+-----------------+---------------------+-----------------+-----------------+------------------+-----------------+-------------------+-----------------+--------------------+--------------------+----------------+\n",
      "|summary| Destination Port|       Flow Duration| Total Fwd Packets| Total Backward Packets|Total Length of Fwd Packets| Total Length of Bwd Packets| Fwd Packet Length Max| Fwd Packet Length Min| Fwd Packet Length Mean| Fwd Packet Length Std|Bwd Packet Length Max| Bwd Packet Length Min| Bwd Packet Length Mean| Bwd Packet Length Std|Flow Bytes/s| Flow Packets/s|     Flow IAT Mean|      Flow IAT Std|        Flow IAT Max|      Flow IAT Min|       Fwd IAT Total|      Fwd IAT Mean|       Fwd IAT Std|         Fwd IAT Max|      Fwd IAT Min|      Bwd IAT Total|      Bwd IAT Mean|       Bwd IAT Std|        Bwd IAT Max|      Bwd IAT Min|      Fwd PSH Flags| Bwd PSH Flags|       Fwd URG Flags| Bwd URG Flags| Fwd Header Length34|  Bwd Header Length|     Fwd Packets/s|    Bwd Packets/s| Min Packet Length| Max Packet Length| Packet Length Mean| Packet Length Std| Packet Length Variance|      FIN Flag Count|     SYN Flag Count|      RST Flag Count|     PSH Flag Count|     ACK Flag Count|     URG Flag Count|      CWE Flag Count|      ECE Flag Count|     Down/Up Ratio| Average Packet Size| Avg Fwd Segment Size| Avg Bwd Segment Size| Fwd Header Length55|Fwd Avg Bytes/Bulk| Fwd Avg Packets/Bulk| Fwd Avg Bulk Rate| Bwd Avg Bytes/Bulk| Bwd Avg Packets/Bulk|Bwd Avg Bulk Rate|Subflow Fwd Packets| Subflow Fwd Bytes| Subflow Bwd Packets| Subflow Bwd Bytes|Init_Win_bytes_forward| Init_Win_bytes_backward| act_data_pkt_fwd| min_seg_size_forward|      Active Mean|       Active Std|        Active Max|       Active Min|          Idle Mean|         Idle Std|            Idle Max|            Idle Min|           Label|\n",
      "+-------+-----------------+--------------------+------------------+-----------------------+---------------------------+----------------------------+----------------------+----------------------+-----------------------+----------------------+---------------------+----------------------+-----------------------+----------------------+------------+---------------+------------------+------------------+--------------------+------------------+--------------------+------------------+------------------+--------------------+-----------------+-------------------+------------------+------------------+-------------------+-----------------+-------------------+--------------+--------------------+--------------+--------------------+-------------------+------------------+-----------------+------------------+------------------+-------------------+------------------+-----------------------+--------------------+-------------------+--------------------+-------------------+-------------------+-------------------+--------------------+--------------------+------------------+--------------------+---------------------+---------------------+--------------------+------------------+---------------------+------------------+-------------------+---------------------+-----------------+-------------------+------------------+--------------------+------------------+----------------------+------------------------+-----------------+---------------------+-----------------+-----------------+------------------+-----------------+-------------------+-----------------+--------------------+--------------------+----------------+\n",
      "|  count|          2830743|             2830743|           2830743|                2830743|                    2830743|                     2830743|               2830743|               2830743|                2830743|               2830743|              2830743|               2830743|                2830743|               2830743|     2830743|        2830743|           2830743|           2830743|             2830743|           2830743|             2830743|           2830743|           2830743|             2830743|          2830743|            2830743|           2830743|           2830743|            2830743|          2830743|            2830743|       2830743|             2830743|       2830743|             2830743|            2830743|           2830743|          2830743|           2830743|           2830743|            2830743|           2830743|                2830743|             2830743|            2830743|             2830743|            2830743|            2830743|            2830743|             2830743|             2830743|           2830743|             2830743|              2830743|              2830743|             2830743|           2830743|              2830743|           2830743|            2830743|              2830743|          2830743|            2830743|           2830743|             2830743|           2830743|               2830743|                 2830743|          2830743|              2830743|          2830743|          2830743|           2830743|          2830743|            2830743|          2830743|             2830743|             2830743|         2830743|\n",
      "|   mean|8071.482501237308|1.4785663929521684E7| 9.361159949878884|     10.393770116185044|          549.3024145957439|           16162.64254649751|    207.59994107554095|    18.713656096650244|      58.20193852813038|       68.910133544209|     870.849454719132|    41.049579209416045|        305.94928134993|     335.3257206074635|         NaN|       Infinity|1298448.7086653854| 2919270.918754884|   9182475.317050682|162379.56178430893|1.4482961734189222E7|2610192.9735423177| 3266957.222050821|   9042938.558814418|1021892.905134447|  9893830.350136695|1805783.7673780387|1485973.3473392955|  4684692.427954428|967261.3707574301|0.04644646299575765|           0.0|1.112782050507587...|           0.0| -25997.391975887604|-2273.2753195892387| 63865.34641144383|6995.191742603483| 16.43450465125234| 950.4024445172168|  171.9443902489786|294.97555442550697|      486154.7941382708|0.035379757187423935|0.04644646299575765|2.423392021105413E-4|0.29807050657724843|0.31584428540492726| 0.0948231612689672|1.112782050507587...|2.433989945395961...|0.6835004096097739|  191.98365759293912|    58.20193852813038|    305.9492813499396| -25997.391975887604|               0.0|                  0.0|               0.0|                0.0|                  0.0|              0.0|  9.361159949878884| 549.2919360747337|  10.393770116185044|16162.302467938629|     6989.837446211119|      1989.4329767838337|5.418217761202624|   -2741.687868520738|81551.32101232209|41134.11677514882|153182.52126950416| 58295.8177443166| 8316036.6272077765|503843.9497793035|   8695751.984585673|   7920031.014637146|            NULL|\n",
      "| stddev|18283.63217237558|3.3653744085855275E7| 749.6727924980067|      997.3882689050872|          9993.589229393448|          2263088.0517259417|      717.184841758305|     60.33934535101876|     186.09115654962253|    281.18709207898564|    1946.367376874711|     68.86260264724757|      605.2568001421844|     839.6932177113671|         NaN|            NaN| 4507944.173794313| 8045869.779654584|2.4459539250842504E7| 2950281.776805726| 3.357581164646723E7| 9525722.485326517| 9639055.400348747|2.4529157399698947E7| 8591436.33855434|2.873661419888718E7| 8887197.079007335| 6278468.565082398|1.716095005862681E7| 8308983.09131466|0.21045000526664193|           0.0|0.010548263436133912|           0.0| 2.105285787317395E7|  1452208.939591066|247537.12964203127|38151.69768319486|25.237720797695612|2028.2291463396562| 305.49146113948757| 631.8000730314727|     1647489.8653099053| 0.18473776556242238|0.21045000526664193|0.015565364095025092| 0.4574107056000807| 0.4648513193674715|0.29297057817673355|0.010548263436133912|0.015599353750469667|0.6804919860804185|   331.8603492541882|   186.09115654962253|    605.2568001422039| 2.105285787317395E7|               0.0|                  0.0|               0.0|                0.0|                  0.0|              0.0|  749.6727924980067| 9980.070243937802|   997.3882689050872|2263057.2835084675|    14338.725836818854|        8456.88315698246|636.4256638996862|   1084989.3838169882|648599.9367739798|393381.5153168304|1025824.9749109313|577092.2819102212|2.363007857795054E7|4602984.480672008|2.4366888329043094E7|2.3363418927478362E7|            NULL|\n",
      "|    min|                0|                 -13|                 1|                      0|                          0|                           0|                     0|                     0|                    0.0|                   0.0|                    0|                     0|                    0.0|                   0.0|     -2.61E8|     -2000000.0|             -13.0|               0.0|                 -13|               -14|                   0|               0.0|               0.0|                   0|              -12|                  0|               0.0|               0.0|                  0|                0|                  0|             0|                   0|             0|        -32212234632|        -1073741320|               0.0|              0.0|                 0|                 0|                0.0|               0.0|                    0.0|                   0|                  0|                   0|                  0|                  0|                  0|                   0|                   0|                 0|                 0.0|                  0.0|                  0.0|        -32212234632|                 0|                    0|                 0|                  0|                    0|                0|                  1|                 0|                   0|                 0|                    -1|                      -1|                0|           -536870661|              0.0|              0.0|                 0|                0|                0.0|              0.0|                   0|                   0|          BENIGN|\n",
      "|    max|            65535|           119999998|            219759|                 291922|                   12900000|                   655453030|                 24820|                  2325|            5940.857143|       7125.5968458437|                19530|                  2896|                 5800.5|           8194.660487|         NaN|       Infinity|             1.2E8|8.48002615664079E7|           120000000|         120000000|           120000000|             1.2E8|8.46029292769822E7|           120000000|        120000000|          120000000|             1.2E8|8.44180137826341E7|          120000000|        120000000|                  1|             0|                   1|             0|             4644908|            5838440|         3000000.0|        2000000.0|              1448|             24820|        3337.142857|       4731.522394|                 2.24E7|                   1|                  1|                   1|                  1|                  1|                  1|                   1|                   1|               156|         3893.333333|          5940.857143|               5800.5|             4644908|                 0|                    0|                 0|                  0|                    0|                0|             219759|          12870338|              291922|         655453030|                 65535|                   65535|           213557|                  138|            1.1E8|           7.42E7|         110000000|        110000000|              1.2E8|           7.69E7|           120000000|           120000000|Web Attack � XSS|\n",
      "+-------+-----------------+--------------------+------------------+-----------------------+---------------------------+----------------------------+----------------------+----------------------+-----------------------+----------------------+---------------------+----------------------+-----------------------+----------------------+------------+---------------+------------------+------------------+--------------------+------------------+--------------------+------------------+------------------+--------------------+-----------------+-------------------+------------------+------------------+-------------------+-----------------+-------------------+--------------+--------------------+--------------+--------------------+-------------------+------------------+-----------------+------------------+------------------+-------------------+------------------+-----------------------+--------------------+-------------------+--------------------+-------------------+-------------------+-------------------+--------------------+--------------------+------------------+--------------------+---------------------+---------------------+--------------------+------------------+---------------------+------------------+-------------------+---------------------+-----------------+-------------------+------------------+--------------------+------------------+----------------------+------------------------+-----------------+---------------------+-----------------+-----------------+------------------+-----------------+-------------------+-----------------+--------------------+--------------------+----------------+\n",
      "\n"
     ]
    }
   ],
   "source": [
    "# Describe numerical columns and show basic statistics\n",
    "df.describe().show()"
   ]
  },
  {
   "cell_type": "code",
   "execution_count": 14,
   "metadata": {},
   "outputs": [
    {
     "name": "stdout",
     "output_type": "stream",
     "text": [
      "+--------------------+-------+\n",
      "|               Label|  count|\n",
      "+--------------------+-------+\n",
      "|              BENIGN|2273097|\n",
      "|            DoS Hulk| 231073|\n",
      "|            PortScan| 158930|\n",
      "|                DDoS| 128027|\n",
      "|       DoS GoldenEye|  10293|\n",
      "|         FTP-Patator|   7938|\n",
      "|         SSH-Patator|   5897|\n",
      "|       DoS slowloris|   5796|\n",
      "|    DoS Slowhttptest|   5499|\n",
      "|                 Bot|   1966|\n",
      "|Web Attack � Brut...|   1507|\n",
      "|    Web Attack � XSS|    652|\n",
      "|        Infiltration|     36|\n",
      "|Web Attack � Sql ...|     21|\n",
      "|          Heartbleed|     11|\n",
      "+--------------------+-------+\n",
      "\n"
     ]
    }
   ],
   "source": [
    "# Group by 'Label' and count occurrences\n",
    "label_counts = df.groupBy('Label').count().orderBy('count', ascending=False)\n",
    "label_counts.show()"
   ]
  },
  {
   "cell_type": "code",
   "execution_count": 17,
   "metadata": {},
   "outputs": [
    {
     "data": {
      "image/png": "[encoded data removed]",
      "text/plain": [
       "<Figure size 1500x1000 with 1 Axes>"
      ]
     },
     "metadata": {},
     "output_type": "display_data"
    }
   ],
   "source": [
    "attack = ('DoS Hulk', 'PortScan', 'DDoS', 'DoS GoldenEye', 'FTP-Patator', 'SSH-Patator', 'DoS Slowloris',\n",
    "          'DoS Slowhttptest', 'Bot', 'Web Attack: Brute Force', 'Web Attack: XSS', 'Infiltration', \n",
    "          'Web Attack: SQL Injection', 'Heartbleed')\n",
    "label_counts_pd = label_counts.toPandas()\n",
    "\n",
    "# Sort and filter to match the attack list (ignoring index 0 if it's not in attack list)\n",
    "label_counts_pd = label_counts_pd[label_counts_pd['Label'].isin(attack)].sort_values('count', ascending=False)\n",
    "amount = label_counts_pd['count'].values\n",
    "attacks_in_data = label_counts_pd['Label'].values\n",
    "\n",
    "plt.figure(figsize=(15, 10))\n",
    "y_pos = np.arange(len(attacks_in_data))  # Adjust based on actual data\n",
    "plt.barh(y_pos, amount, align='center', color='#a3c1ad')\n",
    "plt.yticks(y_pos, attacks_in_data)  # Use actual labels from data\n",
    "plt.title('Distribution of different types of attacks in the dataset')\n",
    "plt.xlabel('Number of occurrences')\n",
    "plt.ylabel('Attack types')\n",
    "for i, v in enumerate(amount):\n",
    "    plt.text(v + 3, i - 0.1, str(v))\n",
    "plt.show()"
   ]
  },
  {
   "cell_type": "markdown",
   "metadata": {},
   "source": [
    "There are only 11, 21, 36 instances of Heartbleed, Web Attack � Sql Injection, Infiltration. So, we will drop it since it will not be sufficient trianing data."
   ]
  },
  {
   "cell_type": "code",
   "execution_count": 18,
   "metadata": {},
   "outputs": [],
   "source": [
    "df = df.replace(['Heartbleed', 'Web Attack � Sql Injection', 'Infiltration'], None, subset=['Label'])\n",
    "df = df.dropna(how='any')"
   ]
  },
  {
   "cell_type": "code",
   "execution_count": 19,
   "metadata": {},
   "outputs": [
    {
     "name": "stdout",
     "output_type": "stream",
     "text": [
      "+--------------------+-------+\n",
      "|               Label|  count|\n",
      "+--------------------+-------+\n",
      "|              BENIGN|2272688|\n",
      "|            DoS Hulk| 230124|\n",
      "|            PortScan| 158930|\n",
      "|                DDoS| 128027|\n",
      "|       DoS GoldenEye|  10293|\n",
      "|         FTP-Patator|   7938|\n",
      "|         SSH-Patator|   5897|\n",
      "|       DoS slowloris|   5796|\n",
      "|    DoS Slowhttptest|   5499|\n",
      "|                 Bot|   1966|\n",
      "|Web Attack � Brut...|   1507|\n",
      "|    Web Attack � XSS|    652|\n",
      "+--------------------+-------+\n",
      "\n"
     ]
    }
   ],
   "source": [
    "# Count occurrences of each value in 'Label' column\n",
    "label_counts = df.groupBy('Label').count().orderBy('count', ascending=False)\n",
    "label_counts.show()"
   ]
  },
  {
   "cell_type": "code",
   "execution_count": 20,
   "metadata": {},
   "outputs": [],
   "source": [
    "# Replace 'Web Attack � Brute Force' with 'Brute Force'\n",
    "df = df.withColumn('Label', when(col('Label') == 'Web Attack � Brute Force', 'Brute Force').otherwise(col('Label')))\n",
    "\n",
    "# Replace 'Web Attack � XSS' with 'XSS'\n",
    "df = df.withColumn('Label', when(col('Label') == 'Web Attack � XSS', 'XSS').otherwise(col('Label')))"
   ]
  },
  {
   "cell_type": "markdown",
   "metadata": {},
   "source": [
    "We will add a binary attack column - indicating a 0 if benign, or 1 if there was an attack.\n",
    "\n",
    "And, group attack methods"
   ]
  },
  {
   "cell_type": "code",
   "execution_count": 21,
   "metadata": {},
   "outputs": [],
   "source": [
    "df = df.withColumn('Attack', when(col('Label') == 'BENIGN', 0).otherwise(1))"
   ]
  },
  {
   "cell_type": "code",
   "execution_count": 22,
   "metadata": {},
   "outputs": [
    {
     "name": "stdout",
     "output_type": "stream",
     "text": [
      "+--------------+-------+\n",
      "|Label_Category|  count|\n",
      "+--------------+-------+\n",
      "|        benign|2272688|\n",
      "|           dos| 251712|\n",
      "|         probe| 158930|\n",
      "|          ddos| 128027|\n",
      "|   brute_force|  13835|\n",
      "|    web_attack|   2159|\n",
      "|        botnet|   1966|\n",
      "+--------------+-------+\n",
      "\n"
     ]
    }
   ],
   "source": [
    "# Define attack group mapping\n",
    "attack_group = {\n",
    "    'BENIGN': 'benign', \n",
    "    'DoS Hulk': 'dos',\n",
    "    'PortScan': 'probe', \n",
    "    'DDoS': 'ddos',\n",
    "    'DoS GoldenEye': 'dos', \n",
    "    'FTP-Patator': 'brute_force',\n",
    "    'SSH-Patator': 'brute_force', \n",
    "    'DoS slowloris': 'dos', \n",
    "    'DoS Slowhttptest': 'dos',\n",
    "    'Bot': 'botnet',\n",
    "    'Brute Force': 'web_attack', \n",
    "    'XSS': 'web_attack'\n",
    "}\n",
    "\n",
    "# Create 'Label_Category' column by mapping 'Label' to attack_group\n",
    "# Use when/otherwise to simulate mapping\n",
    "conditions = [when(col('Label') == k, lit(v)) for k, v in attack_group.items()]\n",
    "df = df.withColumn('Label_Category', conditions[0])  # Start with first condition\n",
    "for condition in conditions[1:]:  # Chain the rest\n",
    "    df = df.withColumn('Label_Category', when(col('Label_Category').isNull(), condition).otherwise(col('Label_Category')))\n",
    "\n",
    "# Count occurrences of each value in 'Label_Category'\n",
    "label_category_counts = df.groupBy('Label_Category').count().orderBy('count', ascending=False)\n",
    "label_category_counts.show()"
   ]
  },
  {
   "cell_type": "code",
   "execution_count": 23,
   "metadata": {},
   "outputs": [
    {
     "name": "stdout",
     "output_type": "stream",
     "text": [
      "+------+-------+\n",
      "|Attack|  count|\n",
      "+------+-------+\n",
      "|     0|2272688|\n",
      "|     1| 556629|\n",
      "+------+-------+\n",
      "\n"
     ]
    },
    {
     "data": {
      "image/png": "[encoded data removed]",
      "text/plain": [
       "<Figure size 640x480 with 1 Axes>"
      ]
     },
     "metadata": {},
     "output_type": "display_data"
    }
   ],
   "source": [
    "attack_counts = df.groupBy('Attack').count().orderBy('count', ascending=False)\n",
    "attack_counts.show()\n",
    "\n",
    "# Collect data to driver for plotting\n",
    "attack_counts_pd = attack_counts.toPandas()\n",
    "attack_labels = attack_counts_pd['Attack'].astype(str).values  # Convert to string for plotting\n",
    "attack_values = attack_counts_pd['count'].values\n",
    "\n",
    "# Plot distribution of 'Attack'\n",
    "plt.figure()\n",
    "plt.barh(attack_labels, attack_values, color='#a3c1ad')\n",
    "plt.title('Distribution of Attack Categories (Grouped)')\n",
    "plt.xlabel('Number of occurrences')\n",
    "plt.ylabel('Attack (0 = BENIGN, 1 = Attack)')\n",
    "plt.show()"
   ]
  },
  {
   "cell_type": "code",
   "execution_count": 24,
   "metadata": {},
   "outputs": [
    {
     "name": "stdout",
     "output_type": "stream",
     "text": [
      "+--------------+-------+\n",
      "|Label_Category|  count|\n",
      "+--------------+-------+\n",
      "|        benign|2272688|\n",
      "|           dos| 251712|\n",
      "|         probe| 158930|\n",
      "|          ddos| 128027|\n",
      "|   brute_force|  13835|\n",
      "|    web_attack|   2159|\n",
      "|        botnet|   1966|\n",
      "+--------------+-------+\n",
      "\n"
     ]
    },
    {
     "data": {
      "image/png": "[encoded data removed]",
      "text/plain": [
       "<Figure size 640x480 with 1 Axes>"
      ]
     },
     "metadata": {},
     "output_type": "display_data"
    }
   ],
   "source": [
    "label_category_counts = df.groupBy('Label_Category').count().orderBy('count', ascending=False)\n",
    "label_category_counts.show()\n",
    "\n",
    "# Collect data to driver for plotting\n",
    "label_category_counts_pd = label_category_counts.toPandas()\n",
    "label_category_labels = label_category_counts_pd['Label_Category'].values\n",
    "label_category_values = label_category_counts_pd['count'].values\n",
    "\n",
    "# Plot distribution of 'Label_Category'\n",
    "plt.figure()\n",
    "plt.barh(label_category_labels, label_category_values, color='#a3c1ad')\n",
    "plt.title('Distribution of Attack Categories (Grouped)')\n",
    "plt.xlabel('Number of occurrences')\n",
    "plt.ylabel('Label Category')\n",
    "plt.show()"
   ]
  },
  {
   "cell_type": "code",
   "execution_count": 25,
   "metadata": {},
   "outputs": [
    {
     "name": "stdout",
     "output_type": "stream",
     "text": [
      "+----------------+-------+\n",
      "|           Label|  count|\n",
      "+----------------+-------+\n",
      "|          BENIGN|2272688|\n",
      "|        DoS Hulk| 230124|\n",
      "|        PortScan| 158930|\n",
      "|            DDoS| 128027|\n",
      "|   DoS GoldenEye|  10293|\n",
      "|     FTP-Patator|   7938|\n",
      "|     SSH-Patator|   5897|\n",
      "|   DoS slowloris|   5796|\n",
      "|DoS Slowhttptest|   5499|\n",
      "|             Bot|   1966|\n",
      "|     Brute Force|   1507|\n",
      "|             XSS|    652|\n",
      "+----------------+-------+\n",
      "\n"
     ]
    },
    {
     "data": {
      "image/png": "[encoded data removed]",
      "text/plain": [
       "<Figure size 640x480 with 1 Axes>"
      ]
     },
     "metadata": {},
     "output_type": "display_data"
    }
   ],
   "source": [
    "label_counts = df.groupBy('Label').count().orderBy('count', ascending=False)\n",
    "label_counts.show()\n",
    "\n",
    "# Collect data to driver for plotting\n",
    "label_counts_pd = label_counts.toPandas()\n",
    "label_labels = label_counts_pd['Label'].values\n",
    "label_values = label_counts_pd['count'].values\n",
    "\n",
    "# Plot distribution of 'Label'\n",
    "plt.figure()\n",
    "plt.barh(label_labels, label_values, color='#a3c1ad')\n",
    "plt.title('Distribution of Attack Categories')\n",
    "plt.xlabel('Number of occurrences')\n",
    "plt.ylabel('Label')\n",
    "plt.show()"
   ]
  },
  {
   "cell_type": "markdown",
   "metadata": {},
   "source": [
    "## Split Data\n",
    "\n",
    "Split data using 60:20:20 ratio, for training, test and validation dataset. We stratified so that the attack rate remained the same across all 3 sets."
   ]
  },
  {
   "cell_type": "code",
   "execution_count": 26,
   "metadata": {},
   "outputs": [],
   "source": [
    "# 3 Different labeling options\n",
    "attacks = ['Label', 'Label_Category', 'Attack']\n",
    "\n",
    "# 1. Separate features (xs) and labels (ys) into a combined DataFrame\n",
    "xs_columns = [c for c in df.columns if c not in attacks]\n",
    "df_combined = df.select(xs_columns + attacks)\n",
    "\n",
    "# Desired split: 60% train, 20% test, 20% validate\n",
    "weights = [0.6, 0.2, 0.2]\n",
    "train_df, test_df, validate_df = df_combined.randomSplit(weights, seed=0)\n"
   ]
  },
  {
   "cell_type": "markdown",
   "metadata": {},
   "source": [
    "Separate features and labels for each split"
   ]
  },
  {
   "cell_type": "code",
   "execution_count": 27,
   "metadata": {},
   "outputs": [],
   "source": [
    "# Training set\n",
    "x_train = train_df.select(xs_columns)\n",
    "y_train = train_df.select(attacks)\n",
    "\n",
    "# Test set\n",
    "x_test = test_df.select(xs_columns)\n",
    "y_test = test_df.select(attacks)\n",
    "\n",
    "# Validation set\n",
    "x_validate = validate_df.select(xs_columns)\n",
    "y_validate = validate_df.select(attacks)"
   ]
  },
  {
   "cell_type": "markdown",
   "metadata": {},
   "source": [
    "Verify the splits"
   ]
  },
  {
   "cell_type": "code",
   "execution_count": 28,
   "metadata": {},
   "outputs": [
    {
     "name": "stdout",
     "output_type": "stream",
     "text": [
      "Training set size: 1695975\n",
      "Test set size: 566992\n",
      "Validation set size: 566350\n"
     ]
    }
   ],
   "source": [
    "print(\"Training set size:\", x_train.count())\n",
    "print(\"Test set size:\", x_test.count())\n",
    "print(\"Validation set size:\", x_validate.count())"
   ]
  },
  {
   "cell_type": "code",
   "execution_count": 29,
   "metadata": {},
   "outputs": [
    {
     "name": "stdout",
     "output_type": "stream",
     "text": [
      "Label distribution in train:\n",
      "+----------------+-------+\n",
      "|           Label|  count|\n",
      "+----------------+-------+\n",
      "|          BENIGN|1362643|\n",
      "|     SSH-Patator|   3577|\n",
      "|   DoS slowloris|   3437|\n",
      "|        DoS Hulk| 137981|\n",
      "|             XSS|    372|\n",
      "|        PortScan|  95070|\n",
      "|DoS Slowhttptest|   3274|\n",
      "|             Bot|   1163|\n",
      "|   DoS GoldenEye|   6163|\n",
      "|            DDoS|  76645|\n",
      "|     FTP-Patator|   4750|\n",
      "|     Brute Force|    900|\n",
      "+----------------+-------+\n",
      "\n"
     ]
    }
   ],
   "source": [
    "print(\"Label distribution in train:\")\n",
    "y_train.groupBy('Label').count().show()"
   ]
  },
  {
   "cell_type": "code",
   "execution_count": 30,
   "metadata": {},
   "outputs": [
    {
     "name": "stdout",
     "output_type": "stream",
     "text": [
      "Label distribution in test:\n",
      "+----------------+------+\n",
      "|           Label| count|\n",
      "+----------------+------+\n",
      "|          BENIGN|455359|\n",
      "|     SSH-Patator|  1152|\n",
      "|   DoS slowloris|  1154|\n",
      "|        DoS Hulk| 46180|\n",
      "|             XSS|   127|\n",
      "|        PortScan| 31918|\n",
      "|DoS Slowhttptest|  1134|\n",
      "|             Bot|   387|\n",
      "|   DoS GoldenEye|  2063|\n",
      "|            DDoS| 25644|\n",
      "|     FTP-Patator|  1558|\n",
      "|     Brute Force|   316|\n",
      "+----------------+------+\n",
      "\n"
     ]
    }
   ],
   "source": [
    "print(\"Label distribution in test:\")\n",
    "y_test.groupBy('Label').count().show()"
   ]
  },
  {
   "cell_type": "code",
   "execution_count": 31,
   "metadata": {},
   "outputs": [
    {
     "name": "stdout",
     "output_type": "stream",
     "text": [
      "Label distribution in validate:\n",
      "+----------------+------+\n",
      "|           Label| count|\n",
      "+----------------+------+\n",
      "|          BENIGN|454686|\n",
      "|     SSH-Patator|  1168|\n",
      "|   DoS slowloris|  1205|\n",
      "|        DoS Hulk| 45963|\n",
      "|             XSS|   153|\n",
      "|        PortScan| 31942|\n",
      "|DoS Slowhttptest|  1091|\n",
      "|             Bot|   416|\n",
      "|   DoS GoldenEye|  2067|\n",
      "|            DDoS| 25738|\n",
      "|     FTP-Patator|  1630|\n",
      "|     Brute Force|   291|\n",
      "+----------------+------+\n",
      "\n"
     ]
    }
   ],
   "source": [
    "print(\"Label distribution in validate:\")\n",
    "y_validate.groupBy('Label').count().show()"
   ]
  },
  {
   "cell_type": "markdown",
   "metadata": {},
   "source": [
    "## Normalization"
   ]
  },
  {
   "cell_type": "markdown",
   "metadata": {},
   "source": [
    "Convert to vector format"
   ]
  },
  {
   "cell_type": "code",
   "execution_count": 32,
   "metadata": {},
   "outputs": [],
   "source": [
    "# Convert feature columns to a single vector column for scaling\n",
    "def to_vector_df(df, feature_cols):\n",
    "    to_vector_udf = udf(lambda arr: Vectors.dense(arr), VectorUDT())\n",
    "    \n",
    "    escaped_cols = [f\"`{col}`\" for col in feature_cols]\n",
    "    return df.selectExpr(\"*\", \"array(\" + \", \".join(escaped_cols) + \") as array_features\") \\\n",
    "            .withColumn(\"features\", to_vector_udf(col(\"array_features\"))) \\\n",
    "            .select(\"features\")\n",
    "\n",
    "feature_cols = x_train.columns"
   ]
  },
  {
   "cell_type": "code",
   "execution_count": 38,
   "metadata": {},
   "outputs": [],
   "source": [
    "assembler = VectorAssembler(inputCols=feature_cols, outputCol=\"features\")\n",
    "x_train_vector = assembler.transform(x_train).select(\"features\")\n",
    "x_validate_vector = assembler.transform(x_validate).select(\"features\")\n",
    "x_test_vector = assembler.transform(x_test).select(\"features\")"
   ]
  },
  {
   "cell_type": "code",
   "execution_count": 39,
   "metadata": {},
   "outputs": [],
   "source": [
    "# Initialize and fit MinMaxScaler\n",
    "scaler = MinMaxScaler(inputCol=\"features\", outputCol=\"scaled_features\")\n",
    "scaler_model = scaler.fit(x_train_vector)"
   ]
  },
  {
   "cell_type": "markdown",
   "metadata": {},
   "source": [
    "Apply normalization to dataset"
   ]
  },
  {
   "cell_type": "code",
   "execution_count": 40,
   "metadata": {},
   "outputs": [],
   "source": [
    "x_train_scaled = scaler_model.transform(x_train_vector).select(\"scaled_features\")\n",
    "x_validate_scaled = scaler_model.transform(x_validate_vector).select(\"scaled_features\")\n",
    "x_test_scaled = scaler_model.transform(x_test_vector).select(\"scaled_features\")"
   ]
  },
  {
   "cell_type": "markdown",
   "metadata": {},
   "source": [
    "Verify that all values are between 0 and 1"
   ]
  },
  {
   "cell_type": "code",
   "execution_count": 44,
   "metadata": {},
   "outputs": [
    {
     "name": "stdout",
     "output_type": "stream",
     "text": [
      "+-------+-------------------+\n",
      "|summary|              value|\n",
      "+-------+-------------------+\n",
      "|  count|          132286050|\n",
      "|   mean|0.14760183095566667|\n",
      "| stddev| 0.2882658152139109|\n",
      "|    min|                0.0|\n",
      "|    max|                1.0|\n",
      "+-------+-------------------+\n",
      "\n"
     ]
    }
   ],
   "source": [
    "# Flatten the scaled features and compute statistics\n",
    "to_array_udf = udf(lambda v: v.toArray().tolist(), ArrayType(DoubleType()))\n",
    "\n",
    "# Convert VectorUDT to array and explode\n",
    "flattened_train = x_train_scaled.withColumn(\"scaled_array\", to_array_udf(col(\"scaled_features\"))) \\\n",
    "                               .selectExpr(\"explode(scaled_array) as value\")\n",
    "stats = flattened_train.describe(\"value\")\n",
    "stats.show()"
   ]
  },
  {
   "cell_type": "markdown",
   "metadata": {},
   "source": []
  }
 ],
 "metadata": {
  "kernelspec": {
   "display_name": "venv",
   "language": "python",
   "name": "python3"
  },
  "language_info": {
   "codemirror_mode": {
    "name": "ipython",
    "version": 3
   },
   "file_extension": ".py",
   "mimetype": "text/x-python",
   "name": "python",
   "nbconvert_exporter": "python",
   "pygments_lexer": "ipython3",
   "version": "3.11.9"
  }
 },
 "nbformat": 4,
 "nbformat_minor": 2
}
