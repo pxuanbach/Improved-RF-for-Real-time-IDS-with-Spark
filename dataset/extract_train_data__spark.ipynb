{
 "cells": [
  {
   "cell_type": "code",
   "execution_count": 1,
   "metadata": {},
   "outputs": [],
   "source": [
    "from pathlib import Path\n",
    "import numpy as np\n",
    "import glob\n",
    "\n",
    "from pyspark.sql import SparkSession\n",
    "# from pyspark.conf import SparkConf\n",
    "from pyspark.sql.functions import col, sum, count, when\n",
    "from pyspark.ml.feature import MinMaxScaler, VectorAssembler\n",
    "from pyspark.ml import Pipeline\n",
    "\n",
    "from skrebate import ReliefF"
   ]
  },
  {
   "cell_type": "code",
   "execution_count": 2,
   "metadata": {},
   "outputs": [
    {
     "name": "stdout",
     "output_type": "stream",
     "text": [
      "Spark Version: 3.5.1\n"
     ]
    }
   ],
   "source": [
    "# Initialize Spark Session\n",
    "spark: SparkSession = SparkSession.builder\\\n",
    "    .appName(\"pyspark-notebook\")\\\n",
    "    .master(\"spark://127.0.0.1:7077\")\\\n",
    "    .config(\"spark.driver.host\", \"host.docker.internal\") \\\n",
    "    .config(\"spark.driver.bindAddress\", \"0.0.0.0\")\\\n",
    "    .config(\"spark.executor.memory\", \"2g\")\\\n",
    "    .config(\"spark.executor.cores\", \"2\") \\\n",
    "    .config(\"spark.executor.instances\", \"2\")\\\n",
    "    .config(\"spark.hadoop.fs.s3a.block.size\", \"33554432\") \\\n",
    "    .config(\"spark.hadoop.fs.s3a.endpoint\", \"http://minio:9000\") \\\n",
    "    .config(\"spark.hadoop.fs.s3a.access.key\", \"admin\") \\\n",
    "    .config(\"spark.hadoop.fs.s3a.secret.key\", \"password\") \\\n",
    "    .config(\"spark.hadoop.fs.s3a.path.style.access\", \"true\") \\\n",
    "    .config(\"spark.hadoop.fs.s3a.connection.ssl.enabled\", \"false\")\\\n",
    "    .config(\"spark.hadoop.fs.s3a.impl\", \"org.apache.hadoop.fs.s3a.S3AFileSystem\") \\\n",
    "    .config(\"spark.hadoop.fs.s3a.aws.credentials.provider\", \"org.apache.hadoop.fs.s3a.SimpleAWSCredentialsProvider\") \\\n",
    "    .config(\"spark.hadoop.fs.s3a.attempts.maximum\", \"0\") \\\n",
    "    .getOrCreate()\n",
    "\n",
    "print(f\"Spark Version: {spark.version}\")"
   ]
  },
  {
   "cell_type": "code",
   "execution_count": 3,
   "metadata": {},
   "outputs": [
    {
     "name": "stdout",
     "output_type": "stream",
     "text": [
      "Tổng: 15\n"
     ]
    }
   ],
   "source": [
    "rdd = spark.sparkContext.parallelize([1, 2, 3, 4, 5])\n",
    "result = rdd.sum()\n",
    "print(f\"Tổng: {result}\")"
   ]
  },
  {
   "cell_type": "code",
   "execution_count": 3,
   "metadata": {},
   "outputs": [
    {
     "name": "stdout",
     "output_type": "stream",
     "text": [
      "['s3a://mybucket/cicids2017\\\\Friday-WorkingHours-Afternoon-DDos.pcap_ISCX.csv', 's3a://mybucket/cicids2017\\\\Friday-WorkingHours-Afternoon-PortScan.pcap_ISCX.csv', 's3a://mybucket/cicids2017\\\\Friday-WorkingHours-Morning.pcap_ISCX.csv', 's3a://mybucket/cicids2017\\\\Monday-WorkingHours.pcap_ISCX.csv', 's3a://mybucket/cicids2017\\\\Thursday-WorkingHours-Afternoon-Infilteration.pcap_ISCX.csv', 's3a://mybucket/cicids2017\\\\Thursday-WorkingHours-Morning-WebAttacks.pcap_ISCX.csv', 's3a://mybucket/cicids2017\\\\Tuesday-WorkingHours.pcap_ISCX.csv', 's3a://mybucket/cicids2017\\\\Wednesday-workingHours.pcap_ISCX.csv']\n"
     ]
    }
   ],
   "source": [
    "volume_path = \"s3a://mybucket/cicids2017\" \n",
    "\n",
    "local_path = \"./CICIDS2017\"\n",
    "all_files = glob.glob(local_path + \"/*.csv\")\n",
    "\n",
    "volume_files = [volume_path + file.removeprefix(local_path) for file in all_files]\n",
    "print(volume_files)"
   ]
  },
  {
   "cell_type": "code",
   "execution_count": 4,
   "metadata": {},
   "outputs": [],
   "source": [
    "df = spark.read \\\n",
    "    .option(\"nullValue\", \"NA\") \\\n",
    "    .option(\"emptyValue\", \"unknown\").csv(volume_files, header=True, inferSchema=True)"
   ]
  },
  {
   "cell_type": "code",
   "execution_count": 12,
   "metadata": {},
   "outputs": [
    {
     "name": "stdout",
     "output_type": "stream",
     "text": [
      "+-----------------+--------------+------------------+-----------------------+---------------------------+----------------------------+----------------------+----------------------+-----------------------+----------------------+---------------------+----------------------+-----------------------+----------------------+----------------+----------------+--------------+--------------+-------------+-------------+-------------+-------------+--------------+------------+------------+-------------+--------------+--------------+------------+------------+-------------+--------------+--------------+--------------+--------------------+------------------+----------------+---------------+------------------+------------------+-------------------+------------------+-----------------------+--------------+---------------+---------------+---------------+---------------+---------------+---------------+---------------+--------------+--------------------+---------------------+---------------------+--------------------+------------------+---------------------+------------------+-------------------+---------------------+-----------------+-------------------+------------------+--------------------+------------------+----------------------+------------------------+-----------------+---------------------+-----------+-----------+-----------+-----------+---------+---------+---------+---------+------+\n",
      "| Destination Port| Flow Duration| Total Fwd Packets| Total Backward Packets|Total Length of Fwd Packets| Total Length of Bwd Packets| Fwd Packet Length Max| Fwd Packet Length Min| Fwd Packet Length Mean| Fwd Packet Length Std|Bwd Packet Length Max| Bwd Packet Length Min| Bwd Packet Length Mean| Bwd Packet Length Std|    Flow Bytes/s|  Flow Packets/s| Flow IAT Mean|  Flow IAT Std| Flow IAT Max| Flow IAT Min|Fwd IAT Total| Fwd IAT Mean|   Fwd IAT Std| Fwd IAT Max| Fwd IAT Min|Bwd IAT Total|  Bwd IAT Mean|   Bwd IAT Std| Bwd IAT Max| Bwd IAT Min|Fwd PSH Flags| Bwd PSH Flags| Fwd URG Flags| Bwd URG Flags| Fwd Header Length34| Bwd Header Length|   Fwd Packets/s|  Bwd Packets/s| Min Packet Length| Max Packet Length| Packet Length Mean| Packet Length Std| Packet Length Variance|FIN Flag Count| SYN Flag Count| RST Flag Count| PSH Flag Count| ACK Flag Count| URG Flag Count| CWE Flag Count| ECE Flag Count| Down/Up Ratio| Average Packet Size| Avg Fwd Segment Size| Avg Bwd Segment Size| Fwd Header Length55|Fwd Avg Bytes/Bulk| Fwd Avg Packets/Bulk| Fwd Avg Bulk Rate| Bwd Avg Bytes/Bulk| Bwd Avg Packets/Bulk|Bwd Avg Bulk Rate|Subflow Fwd Packets| Subflow Fwd Bytes| Subflow Bwd Packets| Subflow Bwd Bytes|Init_Win_bytes_forward| Init_Win_bytes_backward| act_data_pkt_fwd| min_seg_size_forward|Active Mean| Active Std| Active Max| Active Min|Idle Mean| Idle Std| Idle Max| Idle Min| Label|\n",
      "+-----------------+--------------+------------------+-----------------------+---------------------------+----------------------------+----------------------+----------------------+-----------------------+----------------------+---------------------+----------------------+-----------------------+----------------------+----------------+----------------+--------------+--------------+-------------+-------------+-------------+-------------+--------------+------------+------------+-------------+--------------+--------------+------------+------------+-------------+--------------+--------------+--------------+--------------------+------------------+----------------+---------------+------------------+------------------+-------------------+------------------+-----------------------+--------------+---------------+---------------+---------------+---------------+---------------+---------------+---------------+--------------+--------------------+---------------------+---------------------+--------------------+------------------+---------------------+------------------+-------------------+---------------------+-----------------+-------------------+------------------+--------------------+------------------+----------------------+------------------------+-----------------+---------------------+-----------+-----------+-----------+-----------+---------+---------+---------+---------+------+\n",
      "|            49188|             4|                 2|                      0|                         12|                           0|                     6|                     6|                    6.0|                   0.0|                    0|                     0|                    0.0|                   0.0|       3000000.0|        500000.0|           4.0|           0.0|            4|            4|            4|          4.0|           0.0|           4|           4|            0|           0.0|           0.0|           0|           0|            0|             0|             0|             0|                  40|                 0|        500000.0|            0.0|                 6|                 6|                6.0|               0.0|                    0.0|             0|              0|              0|              0|              1|              1|              0|              0|             0|                 9.0|                  6.0|                  0.0|                  40|                 0|                    0|                 0|                  0|                    0|                0|                  2|                12|                   0|                 0|                   329|                      -1|                1|                   20|        0.0|        0.0|          0|          0|      0.0|      0.0|        0|        0|BENIGN|\n",
      "|            49188|             1|                 2|                      0|                         12|                           0|                     6|                     6|                    6.0|                   0.0|                    0|                     0|                    0.0|                   0.0|           1.2E7|       2000000.0|           1.0|           0.0|            1|            1|            1|          1.0|           0.0|           1|           1|            0|           0.0|           0.0|           0|           0|            0|             0|             0|             0|                  40|                 0|       2000000.0|            0.0|                 6|                 6|                6.0|               0.0|                    0.0|             0|              0|              0|              0|              1|              1|              0|              0|             0|                 9.0|                  6.0|                  0.0|                  40|                 0|                    0|                 0|                  0|                    0|                0|                  2|                12|                   0|                 0|                   329|                      -1|                1|                   20|        0.0|        0.0|          0|          0|      0.0|      0.0|        0|        0|BENIGN|\n",
      "|            49188|             1|                 2|                      0|                         12|                           0|                     6|                     6|                    6.0|                   0.0|                    0|                     0|                    0.0|                   0.0|           1.2E7|       2000000.0|           1.0|           0.0|            1|            1|            1|          1.0|           0.0|           1|           1|            0|           0.0|           0.0|           0|           0|            0|             0|             0|             0|                  40|                 0|       2000000.0|            0.0|                 6|                 6|                6.0|               0.0|                    0.0|             0|              0|              0|              0|              1|              1|              0|              0|             0|                 9.0|                  6.0|                  0.0|                  40|                 0|                    0|                 0|                  0|                    0|                0|                  2|                12|                   0|                 0|                   329|                      -1|                1|                   20|        0.0|        0.0|          0|          0|      0.0|      0.0|        0|        0|BENIGN|\n",
      "|            49188|             1|                 2|                      0|                         12|                           0|                     6|                     6|                    6.0|                   0.0|                    0|                     0|                    0.0|                   0.0|           1.2E7|       2000000.0|           1.0|           0.0|            1|            1|            1|          1.0|           0.0|           1|           1|            0|           0.0|           0.0|           0|           0|            0|             0|             0|             0|                  40|                 0|       2000000.0|            0.0|                 6|                 6|                6.0|               0.0|                    0.0|             0|              0|              0|              0|              1|              1|              0|              0|             0|                 9.0|                  6.0|                  0.0|                  40|                 0|                    0|                 0|                  0|                    0|                0|                  2|                12|                   0|                 0|                   329|                      -1|                1|                   20|        0.0|        0.0|          0|          0|      0.0|      0.0|        0|        0|BENIGN|\n",
      "|            49486|             3|                 2|                      0|                         12|                           0|                     6|                     6|                    6.0|                   0.0|                    0|                     0|                    0.0|                   0.0|       4000000.0|666666.666666667|           3.0|           0.0|            3|            3|            3|          3.0|           0.0|           3|           3|            0|           0.0|           0.0|           0|           0|            0|             0|             0|             0|                  40|                 0|666666.666666667|            0.0|                 6|                 6|                6.0|               0.0|                    0.0|             0|              0|              0|              0|              1|              1|              0|              0|             0|                 9.0|                  6.0|                  0.0|                  40|                 0|                    0|                 0|                  0|                    0|                0|                  2|                12|                   0|                 0|                   245|                      -1|                1|                   20|        0.0|        0.0|          0|          0|      0.0|      0.0|        0|        0|BENIGN|\n",
      "|            49486|             1|                 2|                      0|                         12|                           0|                     6|                     6|                    6.0|                   0.0|                    0|                     0|                    0.0|                   0.0|           1.2E7|       2000000.0|           1.0|           0.0|            1|            1|            1|          1.0|           0.0|           1|           1|            0|           0.0|           0.0|           0|           0|            0|             0|             0|             0|                  40|                 0|       2000000.0|            0.0|                 6|                 6|                6.0|               0.0|                    0.0|             0|              0|              0|              0|              1|              1|              0|              0|             0|                 9.0|                  6.0|                  0.0|                  40|                 0|                    0|                 0|                  0|                    0|                0|                  2|                12|                   0|                 0|                   245|                      -1|                1|                   20|        0.0|        0.0|          0|          0|      0.0|      0.0|        0|        0|BENIGN|\n",
      "|            49486|             1|                 2|                      0|                         12|                           0|                     6|                     6|                    6.0|                   0.0|                    0|                     0|                    0.0|                   0.0|           1.2E7|       2000000.0|           1.0|           0.0|            1|            1|            1|          1.0|           0.0|           1|           1|            0|           0.0|           0.0|           0|           0|            0|             0|             0|             0|                  40|                 0|       2000000.0|            0.0|                 6|                 6|                6.0|               0.0|                    0.0|             0|              0|              0|              0|              1|              1|              0|              0|             0|                 9.0|                  6.0|                  0.0|                  40|                 0|                    0|                 0|                  0|                    0|                0|                  2|                12|                   0|                 0|                   245|                      -1|                1|                   20|        0.0|        0.0|          0|          0|      0.0|      0.0|        0|        0|BENIGN|\n",
      "|            49486|             1|                 2|                      0|                         12|                           0|                     6|                     6|                    6.0|                   0.0|                    0|                     0|                    0.0|                   0.0|           1.2E7|       2000000.0|           1.0|           0.0|            1|            1|            1|          1.0|           0.0|           1|           1|            0|           0.0|           0.0|           0|           0|            0|             0|             0|             0|                  40|                 0|       2000000.0|            0.0|                 6|                 6|                6.0|               0.0|                    0.0|             0|              0|              0|              0|              1|              1|              0|              0|             0|                 9.0|                  6.0|                  0.0|                  40|                 0|                    0|                 0|                  0|                    0|                0|                  2|                12|                   0|                 0|                   245|                      -1|                1|                   20|        0.0|        0.0|          0|          0|      0.0|      0.0|        0|        0|BENIGN|\n",
      "|               88|           609|                 7|                      4|                        484|                         414|                   233|                     0|          69.1428571429|        111.9678950584|                  207|                     0|                  103.5|        119.5115057223|1474548.44006568|18062.3973727422|          60.9|115.1949555223|          381|            2|          609|        101.5|177.0895253819|         460|           2|          467|155.6666666667|263.5608721592|         460|           3|            0|             0|             0|             0|                 164|               104|11494.2528735632| 6568.144499179|                 0|               233|      74.8333333333|    107.5274454042|       11562.1515151515|             0|              0|              0|              1|              0|              0|              0|              0|             0|       81.6363636364|        69.1428571429|                103.5|                 164|                 0|                    0|                 0|                  0|                    0|                0|                  7|               484|                   4|               414|                  8192|                    2053|                5|                   20|        0.0|        0.0|          0|          0|      0.0|      0.0|        0|        0|BENIGN|\n",
      "|               88|           879|                 9|                      4|                        656|                        3064|                   313|                     0|          72.8888888889|        136.1538141629|                 1532|                     0|                  766.0|        884.5006123985| 4232081.9112628|14789.5335608646|         73.25|209.0550710394|          734|            1|          879|      109.875| 281.977424375|         806|           1|          764|254.6666666667|434.1685540586|         756|           3|            0|             0|             0|             0|                 204|               104|10238.9078498294|4550.6257110353|                 0|              1532|     265.7142857143|    547.8425417485|       300131.450549451|             0|              0|              0|              1|              0|              0|              0|              0|             0|      286.1538461538|        72.8888888889|                766.0|                 204|                 0|                    0|                 0|                  0|                    0|                0|                  9|               656|                   4|              3064|                  8192|                    2053|                7|                   20|        0.0|        0.0|          0|          0|      0.0|      0.0|        0|        0|BENIGN|\n",
      "+-----------------+--------------+------------------+-----------------------+---------------------------+----------------------------+----------------------+----------------------+-----------------------+----------------------+---------------------+----------------------+-----------------------+----------------------+----------------+----------------+--------------+--------------+-------------+-------------+-------------+-------------+--------------+------------+------------+-------------+--------------+--------------+------------+------------+-------------+--------------+--------------+--------------+--------------------+------------------+----------------+---------------+------------------+------------------+-------------------+------------------+-----------------------+--------------+---------------+---------------+---------------+---------------+---------------+---------------+---------------+--------------+--------------------+---------------------+---------------------+--------------------+------------------+---------------------+------------------+-------------------+---------------------+-----------------+-------------------+------------------+--------------------+------------------+----------------------+------------------------+-----------------+---------------------+-----------+-----------+-----------+-----------+---------+---------+---------+---------+------+\n",
      "only showing top 10 rows\n",
      "\n"
     ]
    }
   ],
   "source": [
    "df.show(10)"
   ]
  },
  {
   "cell_type": "code",
   "execution_count": 5,
   "metadata": {},
   "outputs": [
    {
     "data": {
      "text/plain": [
       "[' Destination Port',\n",
       " ' Flow Duration',\n",
       " ' Total Fwd Packets',\n",
       " ' Total Backward Packets',\n",
       " 'Total Length of Fwd Packets',\n",
       " ' Total Length of Bwd Packets',\n",
       " ' Fwd Packet Length Max',\n",
       " ' Fwd Packet Length Min',\n",
       " ' Fwd Packet Length Mean',\n",
       " ' Fwd Packet Length Std',\n",
       " 'Bwd Packet Length Max',\n",
       " ' Bwd Packet Length Min',\n",
       " ' Bwd Packet Length Mean',\n",
       " ' Bwd Packet Length Std',\n",
       " 'Flow Bytes/s',\n",
       " ' Flow Packets/s',\n",
       " ' Flow IAT Mean',\n",
       " ' Flow IAT Std',\n",
       " ' Flow IAT Max',\n",
       " ' Flow IAT Min',\n",
       " 'Fwd IAT Total',\n",
       " ' Fwd IAT Mean',\n",
       " ' Fwd IAT Std',\n",
       " ' Fwd IAT Max',\n",
       " ' Fwd IAT Min',\n",
       " 'Bwd IAT Total',\n",
       " ' Bwd IAT Mean',\n",
       " ' Bwd IAT Std',\n",
       " ' Bwd IAT Max',\n",
       " ' Bwd IAT Min',\n",
       " 'Fwd PSH Flags',\n",
       " ' Bwd PSH Flags',\n",
       " ' Fwd URG Flags',\n",
       " ' Bwd URG Flags',\n",
       " ' Fwd Header Length34',\n",
       " ' Bwd Header Length',\n",
       " 'Fwd Packets/s',\n",
       " ' Bwd Packets/s',\n",
       " ' Min Packet Length',\n",
       " ' Max Packet Length',\n",
       " ' Packet Length Mean',\n",
       " ' Packet Length Std',\n",
       " ' Packet Length Variance',\n",
       " 'FIN Flag Count',\n",
       " ' SYN Flag Count',\n",
       " ' RST Flag Count',\n",
       " ' PSH Flag Count',\n",
       " ' ACK Flag Count',\n",
       " ' URG Flag Count',\n",
       " ' CWE Flag Count',\n",
       " ' ECE Flag Count',\n",
       " ' Down/Up Ratio',\n",
       " ' Average Packet Size',\n",
       " ' Avg Fwd Segment Size',\n",
       " ' Avg Bwd Segment Size',\n",
       " ' Fwd Header Length55',\n",
       " 'Fwd Avg Bytes/Bulk',\n",
       " ' Fwd Avg Packets/Bulk',\n",
       " ' Fwd Avg Bulk Rate',\n",
       " ' Bwd Avg Bytes/Bulk',\n",
       " ' Bwd Avg Packets/Bulk',\n",
       " 'Bwd Avg Bulk Rate',\n",
       " 'Subflow Fwd Packets',\n",
       " ' Subflow Fwd Bytes',\n",
       " ' Subflow Bwd Packets',\n",
       " ' Subflow Bwd Bytes',\n",
       " 'Init_Win_bytes_forward',\n",
       " ' Init_Win_bytes_backward',\n",
       " ' act_data_pkt_fwd',\n",
       " ' min_seg_size_forward',\n",
       " 'Active Mean',\n",
       " ' Active Std',\n",
       " ' Active Max',\n",
       " ' Active Min',\n",
       " 'Idle Mean',\n",
       " ' Idle Std',\n",
       " ' Idle Max',\n",
       " ' Idle Min',\n",
       " ' Label']"
      ]
     },
     "execution_count": 5,
     "metadata": {},
     "output_type": "execute_result"
    }
   ],
   "source": [
    "df.columns"
   ]
  },
  {
   "cell_type": "code",
   "execution_count": 6,
   "metadata": {},
   "outputs": [
    {
     "name": "stdout",
     "output_type": "stream",
     "text": [
      "+-----------------+--------------+------------------+-----------------------+---------------------------+----------------------------+----------------------+----------------------+-----------------------+----------------------+---------------------+----------------------+-----------------------+----------------------+------------+---------------+--------------+-------------+-------------+-------------+-------------+-------------+------------+------------+------------+-------------+-------------+------------+------------+------------+-------------+--------------+--------------+--------------+--------------------+------------------+-------------+--------------+------------------+------------------+-------------------+------------------+-----------------------+--------------+---------------+---------------+---------------+---------------+---------------+---------------+---------------+--------------+--------------------+---------------------+---------------------+--------------------+------------------+---------------------+------------------+-------------------+---------------------+-----------------+-------------------+------------------+--------------------+------------------+----------------------+------------------------+-----------------+---------------------+-----------+-----------+-----------+-----------+---------+---------+---------+---------+------+\n",
      "| Destination Port| Flow Duration| Total Fwd Packets| Total Backward Packets|Total Length of Fwd Packets| Total Length of Bwd Packets| Fwd Packet Length Max| Fwd Packet Length Min| Fwd Packet Length Mean| Fwd Packet Length Std|Bwd Packet Length Max| Bwd Packet Length Min| Bwd Packet Length Mean| Bwd Packet Length Std|Flow Bytes/s| Flow Packets/s| Flow IAT Mean| Flow IAT Std| Flow IAT Max| Flow IAT Min|Fwd IAT Total| Fwd IAT Mean| Fwd IAT Std| Fwd IAT Max| Fwd IAT Min|Bwd IAT Total| Bwd IAT Mean| Bwd IAT Std| Bwd IAT Max| Bwd IAT Min|Fwd PSH Flags| Bwd PSH Flags| Fwd URG Flags| Bwd URG Flags| Fwd Header Length34| Bwd Header Length|Fwd Packets/s| Bwd Packets/s| Min Packet Length| Max Packet Length| Packet Length Mean| Packet Length Std| Packet Length Variance|FIN Flag Count| SYN Flag Count| RST Flag Count| PSH Flag Count| ACK Flag Count| URG Flag Count| CWE Flag Count| ECE Flag Count| Down/Up Ratio| Average Packet Size| Avg Fwd Segment Size| Avg Bwd Segment Size| Fwd Header Length55|Fwd Avg Bytes/Bulk| Fwd Avg Packets/Bulk| Fwd Avg Bulk Rate| Bwd Avg Bytes/Bulk| Bwd Avg Packets/Bulk|Bwd Avg Bulk Rate|Subflow Fwd Packets| Subflow Fwd Bytes| Subflow Bwd Packets| Subflow Bwd Bytes|Init_Win_bytes_forward| Init_Win_bytes_backward| act_data_pkt_fwd| min_seg_size_forward|Active Mean| Active Std| Active Max| Active Min|Idle Mean| Idle Std| Idle Max| Idle Min| Label|\n",
      "+-----------------+--------------+------------------+-----------------------+---------------------------+----------------------------+----------------------+----------------------+-----------------------+----------------------+---------------------+----------------------+-----------------------+----------------------+------------+---------------+--------------+-------------+-------------+-------------+-------------+-------------+------------+------------+------------+-------------+-------------+------------+------------+------------+-------------+--------------+--------------+--------------+--------------------+------------------+-------------+--------------+------------------+------------------+-------------------+------------------+-----------------------+--------------+---------------+---------------+---------------+---------------+---------------+---------------+---------------+--------------+--------------------+---------------------+---------------------+--------------------+------------------+---------------------+------------------+-------------------+---------------------+-----------------+-------------------+------------------+--------------------+------------------+----------------------+------------------------+-----------------+---------------------+-----------+-----------+-----------+-----------+---------+---------+---------+---------+------+\n",
      "|                0|             0|                 0|                      0|                          0|                           0|                     0|                     0|                      0|                     0|                    0|                     0|                      0|                     0|           0|              0|             0|            0|            0|            0|            0|            0|           0|           0|           0|            0|            0|           0|           0|           0|            0|             0|             0|             0|                   0|                 0|            0|             0|                 0|                 0|                  0|                 0|                      0|             0|              0|              0|              0|              0|              0|              0|              0|             0|                   0|                    0|                    0|                   0|                 0|                    0|                 0|                  0|                    0|                0|                  0|                 0|                   0|                 0|                     0|                       0|                0|                    0|          0|          0|          0|          0|        0|        0|        0|        0|     0|\n",
      "+-----------------+--------------+------------------+-----------------------+---------------------------+----------------------------+----------------------+----------------------+-----------------------+----------------------+---------------------+----------------------+-----------------------+----------------------+------------+---------------+--------------+-------------+-------------+-------------+-------------+-------------+------------+------------+------------+-------------+-------------+------------+------------+------------+-------------+--------------+--------------+--------------+--------------------+------------------+-------------+--------------+------------------+------------------+-------------------+------------------+-----------------------+--------------+---------------+---------------+---------------+---------------+---------------+---------------+---------------+--------------+--------------------+---------------------+---------------------+--------------------+------------------+---------------------+------------------+-------------------+---------------------+-----------------+-------------------+------------------+--------------------+------------------+----------------------+------------------------+-----------------+---------------------+-----------+-----------+-----------+-----------+---------+---------+---------+---------+------+\n",
      "\n"
     ]
    }
   ],
   "source": [
    "null_counts = df.select([\n",
    "    count(when(col(c).isNull(), c)).alias(c)\n",
    "    for c in df.columns\n",
    "])\n",
    "\n",
    "null_counts.show()"
   ]
  }
 ],
 "metadata": {
  "kernelspec": {
   "display_name": "Python 3",
   "language": "python",
   "name": "python3"
  },
  "language_info": {
   "codemirror_mode": {
    "name": "ipython",
    "version": 3
   },
   "file_extension": ".py",
   "mimetype": "text/x-python",
   "name": "python",
   "nbconvert_exporter": "python",
   "pygments_lexer": "ipython3",
   "version": "3.11.9"
  }
 },
 "nbformat": 4,
 "nbformat_minor": 2
}
